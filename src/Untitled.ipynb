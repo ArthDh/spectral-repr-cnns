{
 "cells": [
  {
   "cell_type": "code",
   "execution_count": 1,
   "metadata": {
    "collapsed": false
   },
   "outputs": [],
   "source": [
    "import numpy as np\n",
    "np.set_printoptions(precision=4)\n",
    "import matplotlib.pyplot as plt\n",
    "import PIL\n",
    "\n",
    "% matplotlib inline\n",
    "% load_ext autoreload\n",
    "% autoreload 2"
   ]
  },
  {
   "cell_type": "code",
   "execution_count": 2,
   "metadata": {
    "collapsed": false
   },
   "outputs": [
    {
     "name": "stdout",
     "output_type": "stream",
     "text": [
      "1.13.3\n",
      "4.3.0\n"
     ]
    }
   ],
   "source": [
    "print(np.__version__) # 1.13.3\n",
    "print(PIL.__version__) # 4.3.0"
   ]
  },
  {
   "cell_type": "code",
   "execution_count": 3,
   "metadata": {
    "collapsed": true
   },
   "outputs": [],
   "source": [
    "from modules.create_images import open_image\n",
    "from modules.create_images import save_derived_image\n",
    "from modules.create_images import downscale_image\n",
    "from modules.create_images import add_to_background\n",
    "from modules.create_images import make_random_size"
   ]
  },
  {
   "cell_type": "code",
   "execution_count": 4,
   "metadata": {
    "collapsed": false
   },
   "outputs": [],
   "source": [
    "foreground_image_files = ['dog.png', 'tree.png', 'woman.png']\n",
    "background_image_files = ['city.jpg', 'street.jpg', 'landscape.jpg']\n",
    "\n",
    "foreground_images = [open_image(f) for f in foreground_image_files]\n",
    "background_images = [None] + [downscale_image(open_image(b), 128, 128)\n",
    "                     for b in background_image_files]\n"
   ]
  },
  {
   "cell_type": "code",
   "execution_count": 5,
   "metadata": {
    "collapsed": false
   },
   "outputs": [],
   "source": [
    "save_creations = True\n",
    "\n",
    "for i in range(10):\n",
    "    l, t, w, h = make_random_size()\n",
    "    added = add_to_background(\n",
    "        foreground_images[np.random.choice(len(foreground_images))],\n",
    "        l, t, w, h,\n",
    "        background_images[np.random.choice(len(background_images))],\n",
    "    )\n",
    "    added.show()\n",
    "    if save_creations:\n",
    "        save_derived_image(added)\n"
   ]
  }
 ],
 "metadata": {
  "kernelspec": {
   "display_name": "Python 3",
   "language": "python",
   "name": "python3"
  },
  "language_info": {
   "codemirror_mode": {
    "name": "ipython",
    "version": 3
   },
   "file_extension": ".py",
   "mimetype": "text/x-python",
   "name": "python",
   "nbconvert_exporter": "python",
   "pygments_lexer": "ipython3",
   "version": "3.6.0"
  }
 },
 "nbformat": 4,
 "nbformat_minor": 2
}
