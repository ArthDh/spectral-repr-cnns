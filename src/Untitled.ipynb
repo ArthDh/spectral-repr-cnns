{
 "cells": [
  {
   "cell_type": "code",
   "execution_count": 53,
   "metadata": {},
   "outputs": [
    {
     "name": "stdout",
     "output_type": "stream",
     "text": [
      "The autoreload extension is already loaded. To reload it, use:\n",
      "  %reload_ext autoreload\n"
     ]
    }
   ],
   "source": [
    "import numpy as np\n",
    "np.set_printoptions(precision=4)\n",
    "import matplotlib.pyplot as plt\n",
    "import PIL\n",
    "\n",
    "% matplotlib inline\n",
    "% load_ext autoreload\n",
    "% autoreload 2"
   ]
  },
  {
   "cell_type": "code",
   "execution_count": 2,
   "metadata": {},
   "outputs": [
    {
     "name": "stdout",
     "output_type": "stream",
     "text": [
      "1.13.3\n",
      "4.3.0\n"
     ]
    }
   ],
   "source": [
    "print(np.__version__) # 1.13.3\n",
    "print(PIL.__version__) # 4.3.0"
   ]
  },
  {
   "cell_type": "code",
   "execution_count": 17,
   "metadata": {},
   "outputs": [],
   "source": [
    "from modules.create_images import open_image\n",
    "from modules.create_images import downscale_image\n",
    "from modules.create_images import add_to_background\n",
    "from modules.create_images import make_random_size"
   ]
  },
  {
   "cell_type": "code",
   "execution_count": 4,
   "metadata": {},
   "outputs": [],
   "source": [
    "dog = open_image('dog.png')\n",
    "dog.show()"
   ]
  },
  {
   "cell_type": "code",
   "execution_count": 6,
   "metadata": {},
   "outputs": [],
   "source": [
    "small_dog = downscale_image(dog, 100, 100)\n",
    "small_dog.show()"
   ]
  },
  {
   "cell_type": "code",
   "execution_count": 16,
   "metadata": {},
   "outputs": [],
   "source": [
    "added = add_to_background(dog, 32, 32, 96, 96)\n",
    "added.show()"
   ]
  },
  {
   "cell_type": "code",
   "execution_count": 10,
   "metadata": {},
   "outputs": [],
   "source": [
    "added.show()"
   ]
  },
  {
   "cell_type": "code",
   "execution_count": 57,
   "metadata": {},
   "outputs": [],
   "source": [
    "for i in range(10):\n",
    "    l, t, w, h = make_random_size()\n",
    "    added = add_to_background(dog, l, t, w, h)\n",
    "    added.show()\n"
   ]
  },
  {
   "cell_type": "code",
   "execution_count": 58,
   "metadata": {},
   "outputs": [
    {
     "name": "stdout",
     "output_type": "stream",
     "text": [
      "[ 0  0 32 32 32 32]\n",
      "[ 95  95 128 128 117 128]\n",
      "[ 47.6265  47.7438  56.3496  56.1801  44.5385  67.9912]\n",
      "[ 27.7897  27.6686  21.4959  21.4593  12.9799  21.8883]\n"
     ]
    }
   ],
   "source": [
    "ls, ts, ws, hs, min_wh, max_wh = [], [], [], [], [], []\n",
    "for i in range(10000):\n",
    "    l, t, w, h = make_random_size()\n",
    "    ls.append(l)\n",
    "    ts.append(t)\n",
    "    ws.append(w)\n",
    "    hs.append(h)\n",
    "    min_wh.append(min(w, h))\n",
    "    max_wh.append(max(w, h))\n",
    "\n",
    "all_stats = np.column_stack((ls, ts, ws, hs, min_wh, max_wh))\n",
    "\n",
    "print(np.min(all_stats, axis=0))\n",
    "print(np.max(all_stats, axis=0))\n",
    "print(np.mean(all_stats, axis=0))\n",
    "print(np.std(all_stats, axis=0))\n"
   ]
  },
  {
   "cell_type": "code",
   "execution_count": 59,
   "metadata": {},
   "outputs": [
    {
     "data": {
      "text/plain": [
       "70"
      ]
     },
     "execution_count": 59,
     "metadata": {},
     "output_type": "execute_result"
    }
   ],
   "source": [
    "44 + 26"
   ]
  },
  {
   "cell_type": "code",
   "execution_count": null,
   "metadata": {},
   "outputs": [],
   "source": []
  }
 ],
 "metadata": {
  "kernelspec": {
   "display_name": "Python 3",
   "language": "python",
   "name": "python3"
  },
  "language_info": {
   "codemirror_mode": {
    "name": "ipython",
    "version": 3
   },
   "file_extension": ".py",
   "mimetype": "text/x-python",
   "name": "python",
   "nbconvert_exporter": "python",
   "pygments_lexer": "ipython3",
   "version": "3.6.1"
  }
 },
 "nbformat": 4,
 "nbformat_minor": 2
}
