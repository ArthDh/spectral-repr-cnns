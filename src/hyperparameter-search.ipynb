{
 "cells": [
  {
   "cell_type": "code",
   "execution_count": null,
   "metadata": {},
   "outputs": [],
   "source": [
    "import numpy as np\n",
    "import tensorflow as tf\n",
    "import matplotlib.pylab as plt\n",
    "\n",
    "from modules.utils import load_cifar10\n",
    "from modules.cnn_with_spectral_pooling import CNN_Spectral_Pool\n",
    "\n",
    "% matplotlib inline\n",
    "% load_ext autoreload\n",
    "% autoreload 2"
   ]
  },
  {
   "cell_type": "markdown",
   "metadata": {},
   "source": [
    "# Download CIFAR data, if necessary, and load it"
   ]
  },
  {
   "cell_type": "code",
   "execution_count": null,
   "metadata": {
    "scrolled": true
   },
   "outputs": [],
   "source": [
    "xtrain, ytrain, xtest, ytest = load_cifar10(5, get_test_data=True, channels_last=False)"
   ]
  },
  {
   "cell_type": "code",
   "execution_count": null,
   "metadata": {},
   "outputs": [],
   "source": [
    "xtrain.shape, ytrain.shape, xtest.shape, ytest.shape"
   ]
  },
  {
   "cell_type": "markdown",
   "metadata": {},
   "source": [
    "# Subsample the data for hyperparameter search"
   ]
  },
  {
   "cell_type": "code",
   "execution_count": null,
   "metadata": {},
   "outputs": [],
   "source": [
    "sample_size = 2 ** 14\n",
    "sampleind = np.random.choice(np.arange(xtrain.shape[0]),\n",
    "                             size=sample_size, replace=False)\n",
    "xtrain_sample = xtrain[sampleind]\n",
    "ytrain_sample = ytrain[sampleind]\n",
    "xtrain_sample.shape, ytrain_sample.shape\n"
   ]
  },
  {
   "cell_type": "markdown",
   "metadata": {},
   "source": [
    "# Define ranges for hyperparameters"
   ]
  },
  {
   "cell_type": "code",
   "execution_count": null,
   "metadata": {
    "collapsed": true
   },
   "outputs": [],
   "source": [
    "learning_rate_range = [1e-5, 2e-3]\n",
    "l2_norm_range = [1e-5, 1e-2]\n",
    "M_range = [3, 9]\n",
    "gamma_range = [0.5, 0.9]\n"
   ]
  },
  {
   "cell_type": "markdown",
   "metadata": {},
   "source": [
    "# Perform the hyperparameter search"
   ]
  },
  {
   "cell_type": "code",
   "execution_count": null,
   "metadata": {},
   "outputs": [],
   "source": [
    "validation_size = 2 ** 10\n",
    "hyperparams = []\n",
    "best_accuracies = []\n",
    "full_model_names = [] \n",
    "for search_idx in range(10):\n",
    "    learning_rate = np.exp(np.random.uniform(\n",
    "        low=np.log(learning_rate_range[0]),\n",
    "        high=np.log(learning_rate_range[1])\n",
    "    ))\n",
    "    l2_norm = np.exp(np.random.uniform(\n",
    "        low=np.log(l2_norm_range[0]),\n",
    "        high=np.log(l2_norm_range[1])\n",
    "    ))\n",
    "    M = np.random.randint(\n",
    "        low = M_range[0],\n",
    "        high = M_range[1] + 1\n",
    "    )\n",
    "    gamma = np.random.uniform(\n",
    "        low = gamma_range[0],\n",
    "        high = gamma_range[1]\n",
    "    )\n",
    "    hyperparams.append({\n",
    "        'learning_rate': learning_rate,\n",
    "        'l2_norm': l2_norm,\n",
    "        'M': M,\n",
    "        'gamma': gamma,\n",
    "    })\n",
    "    tf.reset_default_graph()\n",
    "    cnn = CNN_Spectral_Pool(M=M,\n",
    "                            num_output=10,\n",
    "                            verbose=False,\n",
    "                            learning_rate=learning_rate,\n",
    "                            l2_norm=l2_norm,\n",
    "                            lr_reduction_factor=0.5,\n",
    "                            lr_reduction_epochs=[11,21,31,41],\n",
    "                            gamma=gamma)\n",
    "    print('Trying hyperparameters: ')\n",
    "    print(hyperparams[-1])\n",
    "    cnn.train(xtrain_sample[:-validation_size],\n",
    "              ytrain_sample[:-validation_size],\n",
    "              xtrain_sample[-validation_size:],\n",
    "              ytrain_sample[-validation_size:],\n",
    "              batch_size=256,\n",
    "              epochs=30,\n",
    "              extra_conv_layer=True,\n",
    "              use_global_averaging=True,\n",
    "              model_name='hyperparam_search'\n",
    "    )\n",
    "    best_accuracies.append(cnn.best_acc)\n",
    "    full_model_names.append(cnn.full_model_name)\n",
    "    \n",
    "print('Overall best accuracy: {0:.3f}'.format(np.max(best_accuracies)))\n",
    "print('Full Model Name: {0}'.format(full_model_names[np.argmax(best_accuracies)]))\n",
    "print('Hyperparameters achieving this result: ')\n",
    "print(hyperparams[np.argmax(best_accuracies)])"
   ]
  },
  {
   "cell_type": "markdown",
   "metadata": {},
   "source": [
    "__Note:__ in the above output, train acc is not same as validation acc even though they are the same because of dropout applied in train and not in validation"
   ]
  },
  {
   "cell_type": "code",
   "execution_count": null,
   "metadata": {
    "scrolled": false
   },
   "outputs": [],
   "source": [
    "tf.reset_default_graph()\n",
    "overall_best_model = full_model_names[np.argmax(best_accuracies)]\n",
    "overall_best_hyperparams = hyperparams[np.argmax(best_accuracies)]\n",
    "cnn = CNN_Spectral_Pool(M=overall_best_hyperparams['M'],\n",
    "                        num_output=10,\n",
    "                        verbose=False,\n",
    "                        learning_rate=overall_best_hyperparams['learning_rate'],\n",
    "                        l2_norm=overall_best_hyperparams['l2_norm'],\n",
    "                        lr_reduction_factor=0.5,\n",
    "                        lr_reduction_epochs=[11,21,31,41],\n",
    "                        gamma=overall_best_hyperparams['gamma'])\n",
    "cnn.calc_test_accuracy(xtest, ytest, 'hyperparam_search/{0}'.format(overall_best_model))"
   ]
  }
 ],
 "metadata": {
  "kernelspec": {
   "display_name": "Python 3",
   "language": "python",
   "name": "python3"
  },
  "language_info": {
   "codemirror_mode": {
    "name": "ipython",
    "version": 3
   },
   "file_extension": ".py",
   "mimetype": "text/x-python",
   "name": "python",
   "nbconvert_exporter": "python",
   "pygments_lexer": "ipython3",
   "version": "3.5.4"
  }
 },
 "nbformat": 4,
 "nbformat_minor": 2
}
