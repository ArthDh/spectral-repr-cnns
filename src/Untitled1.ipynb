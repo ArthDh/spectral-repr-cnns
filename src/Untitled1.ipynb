{
 "cells": [
  {
   "cell_type": "code",
   "execution_count": 2,
   "metadata": {
    "collapsed": true
   },
   "outputs": [],
   "source": [
    "import tensorflow as tf\n",
    "import numpy as np"
   ]
  },
  {
   "cell_type": "code",
   "execution_count": 19,
   "metadata": {},
   "outputs": [
    {
     "name": "stdout",
     "output_type": "stream",
     "text": [
      "[[[ 0  1  2  3  4]\n",
      "  [ 5  6  7  8  9]\n",
      "  [10 11 12 13 14]\n",
      "  [15 16 17 18 19]\n",
      "  [20 21 22 23 24]]\n",
      "\n",
      " [[25 26 27 28 29]\n",
      "  [30 31 32 33 34]\n",
      "  [35 36 37 38 39]\n",
      "  [40 41 42 43 44]\n",
      "  [45 46 47 48 49]]\n",
      "\n",
      " [[50 51 52 53 54]\n",
      "  [55 56 57 58 59]\n",
      "  [60 61 62 63 64]\n",
      "  [65 66 67 68 69]\n",
      "  [70 71 72 73 74]]]\n"
     ]
    }
   ],
   "source": [
    "five_by_five = np.reshape(np.arange(0,75), (3,5,5))\n",
    "print(five_by_five)"
   ]
  },
  {
   "cell_type": "code",
   "execution_count": 28,
   "metadata": {},
   "outputs": [
    {
     "name": "stdout",
     "output_type": "stream",
     "text": [
      "[[[ 0  1  4]\n",
      "  [ 5  6  9]\n",
      "  [20 21 24]]\n",
      "\n",
      " [[25 26 29]\n",
      "  [30 31 34]\n",
      "  [45 46 49]]\n",
      "\n",
      " [[50 51 54]\n",
      "  [55 56 59]\n",
      "  [70 71 74]]]\n"
     ]
    }
   ],
   "source": [
    "with tf.Session() as sess:\n",
    "    fbf = tf.constant(five_by_five)\n",
    "    n = tf.constant(1)\n",
    "    top_left = fbf[:, :n+1,:n+1]\n",
    "    top_right = fbf[:, :n+1, -n:]\n",
    "    bottom_left = fbf[:, -n:, :n+1]\n",
    "    bottom_right = fbf[:, -n:, -n:]\n",
    "    top_combined = tf.concat([top_left, top_right], axis=-1)\n",
    "    bottom_combined = tf.concat([bottom_left, bottom_right], axis=-1)\n",
    "    all_together = tf.concat([top_combined, bottom_combined], axis=-2)\n",
    "    objs = sess.run([all_together])\n",
    "    for obj in objs:\n",
    "        print(obj)\n"
   ]
  },
  {
   "cell_type": "code",
   "execution_count": 30,
   "metadata": {},
   "outputs": [
    {
     "data": {
      "text/plain": [
       "(5+2j)"
      ]
     },
     "execution_count": 30,
     "metadata": {},
     "output_type": "execute_result"
    }
   ],
   "source": [
    "5+2j"
   ]
  },
  {
   "cell_type": "code",
   "execution_count": 41,
   "metadata": {},
   "outputs": [
    {
     "name": "stdout",
     "output_type": "stream",
     "text": [
      "[None, 4.9000001, 3.9200001]\n",
      "[None, 4.802, 3.8416002]\n",
      "[None, 4.7059603, 3.7647681]\n",
      "[None, 4.6118412, 3.6894727]\n",
      "[None, 4.5196042, 3.6156833]\n",
      "[None, 4.4292121, 3.5433698]\n",
      "[None, 4.3406277, 3.4725025]\n",
      "[None, 4.2538152, 3.4030523]\n",
      "[None, 4.1687388, 3.3349912]\n",
      "[None, 4.0853639, 3.2682915]\n"
     ]
    }
   ],
   "source": [
    "tf.reset_default_graph()\n",
    "real_part = tf.get_variable('real_part', initializer=5.)\n",
    "imag_part = tf.get_variable('imag_part', initializer=4.)\n",
    "x = tf.complex(real_part, imag_part)\n",
    "y = x*tf.conj(x)\n",
    "step = tf.train.GradientDescentOptimizer(learning_rate=0.01).minimize(tf.real(y))\n",
    "with tf.Session() as sess:\n",
    "    sess.run(tf.global_variables_initializer())\n",
    "    for i in range(10):\n",
    "        print(sess.run([step, real_part, imag_part]))"
   ]
  },
  {
   "cell_type": "code",
   "execution_count": null,
   "metadata": {
    "collapsed": true
   },
   "outputs": [],
   "source": []
  }
 ],
 "metadata": {
  "kernelspec": {
   "display_name": "Python 3",
   "language": "python",
   "name": "python3"
  },
  "language_info": {
   "codemirror_mode": {
    "name": "ipython",
    "version": 3
   },
   "file_extension": ".py",
   "mimetype": "text/x-python",
   "name": "python",
   "nbconvert_exporter": "python",
   "pygments_lexer": "ipython3",
   "version": "3.5.4"
  }
 },
 "nbformat": 4,
 "nbformat_minor": 2
}
