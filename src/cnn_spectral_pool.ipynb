{
 "cells": [
  {
   "cell_type": "code",
   "execution_count": 1,
   "metadata": {
    "collapsed": true
   },
   "outputs": [],
   "source": [
    "import numpy as np\n",
    "import tensorflow as tf\n",
    "import matplotlib.pylab as plt\n",
    "\n",
    "from modules.utils import load_cifar10\n",
    "from modules.train import train\n",
    "from modules.cnn_with_spectral_pooling import CNN_Spectral_Pool\n",
    "\n",
    "% matplotlib inline\n",
    "% load_ext autoreload\n",
    "% autoreload 2"
   ]
  },
  {
   "cell_type": "code",
   "execution_count": 2,
   "metadata": {},
   "outputs": [
    {
     "name": "stdout",
     "output_type": "stream",
     "text": [
      "getting batch 1\n"
     ]
    }
   ],
   "source": [
    "xtrain, ytrain, xtest, ytest = load_cifar10(1, True)"
   ]
  },
  {
   "cell_type": "code",
   "execution_count": 3,
   "metadata": {},
   "outputs": [
    {
     "data": {
      "text/plain": [
       "((10000, 3, 32, 32), (10000,), (10000, 3, 32, 32), (10000,))"
      ]
     },
     "execution_count": 3,
     "metadata": {},
     "output_type": "execute_result"
    }
   ],
   "source": [
    "xtrain.shape, ytrain.shape, xtest.shape, ytest.shape"
   ]
  },
  {
   "cell_type": "code",
   "execution_count": 27,
   "metadata": {},
   "outputs": [],
   "source": [
    "# take a small batch for testing architecture\n",
    "sampleind = np.random.choice(np.arange(xtrain.shape[0]),\n",
    "                             size=30, replace=False)\n",
    "xtrain_sample = xtrain[sampleind]\n",
    "ytrain_sample = ytrain[sampleind]\n",
    "assert len(np.unique(ytrain_sample)) == 10"
   ]
  },
  {
   "cell_type": "markdown",
   "metadata": {},
   "source": [
    "## test build graph:"
   ]
  },
  {
   "cell_type": "code",
   "execution_count": 4,
   "metadata": {
    "collapsed": true
   },
   "outputs": [],
   "source": [
    "cnn = CNN_Spectral_Pool()"
   ]
  },
  {
   "cell_type": "code",
   "execution_count": 31,
   "metadata": {
    "scrolled": true
   },
   "outputs": [
    {
     "name": "stdout",
     "output_type": "stream",
     "text": [
      "Building tf graph...\n",
      "Adding conv layer 1 with 128 filters of size (3, 3)\n",
      "Adding spectral pool layer 1 with 27 filter size\n",
      "Adding conv layer 2 with 160 filters of size (3, 3)\n",
      "Adding spectral pool layer 2 with 21 filter size\n",
      "Adding conv layer 3 with 192 filters of size (3, 3)\n",
      "Adding spectral pool layer 3 with 17 filter size\n",
      "Adding conv layer 4 with 224 filters of size (3, 3)\n",
      "Adding spectral pool layer 4 with 13 filter size\n",
      "Adding conv layer 5 with 256 filters of size (3, 3)\n",
      "Adding spectral pool layer 5 with 11 filter size\n",
      "Adding conv layer 6 with 256 filters of size (1, 1)\n",
      "Adding conv layer 7 with 10 filters of size (1, 1)\n",
      "Adding final softmax layer\n",
      "number of batches for training: 1\n",
      "epoch 1 \n",
      "Training batch 0\n",
      "0.833333333333\n",
      "epoch 2 \n",
      "Training batch 0\n",
      "0.866666666667\n",
      "epoch 3 \n",
      "Training batch 0\n",
      "0.833333333333\n",
      "epoch 4 \n",
      "Training batch 0\n",
      "0.8\n",
      "epoch 5 \n",
      "Training batch 0\n",
      "0.833333333333\n",
      "epoch 6 \n",
      "Training batch 0\n",
      "0.833333333333\n",
      "epoch 7 \n",
      "Training batch 0\n",
      "0.833333333333\n",
      "epoch 8 \n",
      "Training batch 0\n",
      "0.833333333333\n",
      "epoch 9 \n",
      "Training batch 0\n",
      "0.833333333333\n",
      "epoch 10 \n",
      "Training batch 0\n",
      "0.833333333333\n",
      "epoch 11 \n",
      "Training batch 0\n",
      "0.833333333333\n",
      "epoch 12 \n",
      "Training batch 0\n",
      "0.833333333333\n",
      "epoch 13 \n",
      "Training batch 0\n",
      "0.833333333333\n",
      "epoch 14 \n",
      "Training batch 0\n",
      "0.833333333333\n",
      "epoch 15 \n",
      "Training batch 0\n",
      "0.833333333333\n",
      "epoch 16 \n",
      "Training batch 0\n",
      "0.833333333333\n",
      "epoch 17 \n",
      "Training batch 0\n",
      "0.833333333333\n",
      "epoch 18 \n",
      "Training batch 0\n",
      "0.833333333333\n",
      "epoch 19 \n",
      "Training batch 0\n",
      "0.833333333333\n",
      "epoch 20 \n",
      "Training batch 0\n",
      "0.833333333333\n",
      "epoch 21 \n",
      "Training batch 0\n",
      "0.833333333333\n",
      "epoch 22 \n",
      "Training batch 0\n",
      "0.833333333333\n",
      "epoch 23 \n",
      "Training batch 0\n",
      "0.833333333333\n",
      "epoch 24 \n",
      "Training batch 0\n",
      "0.833333333333\n",
      "epoch 25 \n",
      "Training batch 0\n",
      "0.833333333333\n",
      "epoch 26 \n",
      "Training batch 0\n",
      "0.833333333333\n",
      "epoch 27 \n",
      "Training batch 0\n",
      "0.833333333333\n",
      "epoch 28 \n",
      "Training batch 0\n",
      "0.833333333333\n",
      "epoch 29 \n",
      "Training batch 0\n",
      "0.833333333333\n",
      "epoch 30 \n",
      "Training batch 0\n",
      "0.833333333333\n",
      "epoch 31 \n",
      "Training batch 0\n",
      "0.833333333333\n",
      "epoch 32 \n",
      "Training batch 0\n",
      "0.833333333333\n",
      "epoch 33 \n",
      "Training batch 0\n",
      "0.833333333333\n",
      "epoch 34 \n",
      "Training batch 0\n",
      "0.833333333333\n",
      "epoch 35 \n",
      "Training batch 0\n",
      "0.833333333333\n",
      "epoch 36 \n",
      "Training batch 0\n",
      "0.833333333333\n",
      "epoch 37 \n",
      "Training batch 0\n",
      "0.833333333333\n",
      "epoch 38 \n",
      "Training batch 0\n",
      "0.833333333333\n",
      "epoch 39 \n",
      "Training batch 0\n",
      "0.833333333333\n",
      "epoch 40 \n",
      "Training batch 0\n",
      "0.833333333333\n",
      "epoch 41 \n",
      "Training batch 0\n",
      "0.833333333333\n",
      "epoch 42 \n",
      "Training batch 0\n",
      "0.833333333333\n",
      "epoch 43 \n",
      "Training batch 0\n",
      "0.833333333333\n",
      "epoch 44 \n",
      "Training batch 0\n",
      "0.833333333333\n",
      "epoch 45 \n",
      "Training batch 0\n",
      "0.833333333333\n",
      "epoch 46 \n",
      "Training batch 0\n",
      "0.833333333333\n",
      "epoch 47 \n",
      "Training batch 0\n",
      "0.833333333333\n",
      "epoch 48 \n",
      "Training batch 0\n",
      "0.833333333333\n",
      "epoch 49 \n",
      "Training batch 0\n",
      "0.833333333333\n",
      "epoch 50 \n",
      "Training batch 0\n",
      "0.833333333333\n"
     ]
    }
   ],
   "source": [
    "tf.reset_default_graph()\n",
    "cnn.train(xtrain_sample, ytrain_sample, None, None,\n",
    "          batch_size=30, epochs=50)"
   ]
  },
  {
   "cell_type": "code",
   "execution_count": 32,
   "metadata": {},
   "outputs": [
    {
     "data": {
      "text/plain": [
       "[<matplotlib.lines.Line2D at 0x7f622e45ff60>]"
      ]
     },
     "execution_count": 32,
     "metadata": {},
     "output_type": "execute_result"
    },
    {
     "data": {
      "image/png": "[encoded data removed]",
      "text/plain": [
       "<matplotlib.figure.Figure at 0x7f6284a3af28>"
      ]
     },
     "metadata": {},
     "output_type": "display_data"
    }
   ],
   "source": [
    "plt.plot(cnn.train_accuracy)"
   ]
  },
  {
   "cell_type": "code",
   "execution_count": null,
   "metadata": {
    "collapsed": true
   },
   "outputs": [],
   "source": []
  }
 ],
 "metadata": {
  "kernelspec": {
   "display_name": "Python 3",
   "language": "python",
   "name": "python3"
  },
  "language_info": {
   "codemirror_mode": {
    "name": "ipython",
    "version": 3
   },
   "file_extension": ".py",
   "mimetype": "text/x-python",
   "name": "python",
   "nbconvert_exporter": "python",
   "pygments_lexer": "ipython3",
   "version": "3.5.4"
  }
 },
 "nbformat": 4,
 "nbformat_minor": 2
}
