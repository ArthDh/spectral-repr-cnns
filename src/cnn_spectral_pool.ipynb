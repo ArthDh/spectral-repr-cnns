{
 "cells": [
  {
   "cell_type": "code",
   "execution_count": 1,
   "metadata": {},
   "outputs": [],
   "source": [
    "import numpy as np\n",
    "import tensorflow as tf\n",
    "import matplotlib.pylab as plt\n",
    "\n",
    "from modules.utils import load_cifar10\n",
    "from modules.train import train\n",
    "from modules.cnn_with_spectral_pooling import CNN_Spectral_Pool\n",
    "\n",
    "% matplotlib inline\n",
    "% load_ext autoreload\n",
    "% autoreload 2"
   ]
  },
  {
   "cell_type": "code",
   "execution_count": 27,
   "metadata": {},
   "outputs": [
    {
     "name": "stdout",
     "output_type": "stream",
     "text": [
      "file already downloaded..\n",
      "getting batch 1\n"
     ]
    }
   ],
   "source": [
    "xtrain, ytrain, xtest, ytest = load_cifar10(1, True)"
   ]
  },
  {
   "cell_type": "code",
   "execution_count": 28,
   "metadata": {},
   "outputs": [
    {
     "data": {
      "text/plain": [
       "((10000, 3, 32, 32), (10000,), (10000, 3, 32, 32), (10000,))"
      ]
     },
     "execution_count": 28,
     "metadata": {},
     "output_type": "execute_result"
    }
   ],
   "source": [
    "xtrain.shape, ytrain.shape, xtest.shape, ytest.shape"
   ]
  },
  {
   "cell_type": "markdown",
   "metadata": {},
   "source": [
    "## test build graph:"
   ]
  },
  {
   "cell_type": "code",
   "execution_count": 29,
   "metadata": {},
   "outputs": [],
   "source": [
    "cnn = CNN_Spectral_Pool()"
   ]
  },
  {
   "cell_type": "code",
   "execution_count": 36,
   "metadata": {
    "scrolled": true
   },
   "outputs": [
    {
     "name": "stdout",
     "output_type": "stream",
     "text": [
      "Building tf graph...\n",
      "Adding conv layer 1 with 128 filters of size (3, 3)\n",
      "Adding spectral pool layer 1 with 27 filter size\n",
      "Adding conv layer 2 with 160 filters of size (3, 3)\n",
      "Adding spectral pool layer 2 with 21 filter size\n",
      "Adding conv layer 3 with 192 filters of size (3, 3)\n",
      "Adding spectral pool layer 3 with 17 filter size\n",
      "Adding conv layer 4 with 224 filters of size (3, 3)\n",
      "Adding spectral pool layer 4 with 13 filter size\n",
      "Adding conv layer 5 with 256 filters of size (3, 3)\n",
      "Adding spectral pool layer 5 with 11 filter size\n",
      "Adding conv layer 6 with 256 filters of size (1, 1)\n",
      "Adding conv layer 7 with 10 filters of size (1, 1)\n",
      "Adding final softmax layer\n",
      "number of batches for training: 19\n",
      "epoch 1 \n"
     ]
    },
    {
     "ename": "InvalidArgumentError",
     "evalue": "Conv2DCustomBackpropFilterOp only supports NHWC.\n\t [[Node: inputs/train_step/gradients/inputs/conv_layer_7/conv_layer_7/Conv2D_grad/Conv2DBackpropFilter = Conv2DBackpropFilter[T=DT_FLOAT, data_format=\"NCHW\", padding=\"VALID\", strides=[1, 1, 1, 1], use_cudnn_on_gpu=true, _device=\"/job:localhost/replica:0/task:0/device:CPU:0\"](inputs/conv_layer_6/conv_layer_6/Relu, inputs/train_step/gradients/inputs/conv_layer_7/conv_layer_7/Conv2D_grad/ShapeN:1, inputs/train_step/gradients/inputs/conv_layer_7/conv_layer_7/BiasAdd_grad/tuple/control_dependency)]]\n\nCaused by op 'inputs/train_step/gradients/inputs/conv_layer_7/conv_layer_7/Conv2D_grad/Conv2DBackpropFilter', defined at:\n  File \"/Users/aarshayjain/anaconda3/envs/ecbm4040_project/lib/python3.5/runpy.py\", line 193, in _run_module_as_main\n    \"__main__\", mod_spec)\n  File \"/Users/aarshayjain/anaconda3/envs/ecbm4040_project/lib/python3.5/runpy.py\", line 85, in _run_code\n    exec(code, run_globals)\n  File \"/Users/aarshayjain/anaconda3/envs/ecbm4040_project/lib/python3.5/site-packages/ipykernel_launcher.py\", line 16, in <module>\n    app.launch_new_instance()\n  File \"/Users/aarshayjain/anaconda3/envs/ecbm4040_project/lib/python3.5/site-packages/traitlets/config/application.py\", line 658, in launch_instance\n    app.start()\n  File \"/Users/aarshayjain/anaconda3/envs/ecbm4040_project/lib/python3.5/site-packages/ipykernel/kernelapp.py\", line 477, in start\n    ioloop.IOLoop.instance().start()\n  File \"/Users/aarshayjain/anaconda3/envs/ecbm4040_project/lib/python3.5/site-packages/zmq/eventloop/ioloop.py\", line 177, in start\n    super(ZMQIOLoop, self).start()\n  File \"/Users/aarshayjain/anaconda3/envs/ecbm4040_project/lib/python3.5/site-packages/tornado/ioloop.py\", line 888, in start\n    handler_func(fd_obj, events)\n  File \"/Users/aarshayjain/anaconda3/envs/ecbm4040_project/lib/python3.5/site-packages/tornado/stack_context.py\", line 277, in null_wrapper\n    return fn(*args, **kwargs)\n  File \"/Users/aarshayjain/anaconda3/envs/ecbm4040_project/lib/python3.5/site-packages/zmq/eventloop/zmqstream.py\", line 440, in _handle_events\n    self._handle_recv()\n  File \"/Users/aarshayjain/anaconda3/envs/ecbm4040_project/lib/python3.5/site-packages/zmq/eventloop/zmqstream.py\", line 472, in _handle_recv\n    self._run_callback(callback, msg)\n  File \"/Users/aarshayjain/anaconda3/envs/ecbm4040_project/lib/python3.5/site-packages/zmq/eventloop/zmqstream.py\", line 414, in _run_callback\n    callback(*args, **kwargs)\n  File \"/Users/aarshayjain/anaconda3/envs/ecbm4040_project/lib/python3.5/site-packages/tornado/stack_context.py\", line 277, in null_wrapper\n    return fn(*args, **kwargs)\n  File \"/Users/aarshayjain/anaconda3/envs/ecbm4040_project/lib/python3.5/site-packages/ipykernel/kernelbase.py\", line 283, in dispatcher\n    return self.dispatch_shell(stream, msg)\n  File \"/Users/aarshayjain/anaconda3/envs/ecbm4040_project/lib/python3.5/site-packages/ipykernel/kernelbase.py\", line 235, in dispatch_shell\n    handler(stream, idents, msg)\n  File \"/Users/aarshayjain/anaconda3/envs/ecbm4040_project/lib/python3.5/site-packages/ipykernel/kernelbase.py\", line 399, in execute_request\n    user_expressions, allow_stdin)\n  File \"/Users/aarshayjain/anaconda3/envs/ecbm4040_project/lib/python3.5/site-packages/ipykernel/ipkernel.py\", line 196, in do_execute\n    res = shell.run_cell(code, store_history=store_history, silent=silent)\n  File \"/Users/aarshayjain/anaconda3/envs/ecbm4040_project/lib/python3.5/site-packages/ipykernel/zmqshell.py\", line 533, in run_cell\n    return super(ZMQInteractiveShell, self).run_cell(*args, **kwargs)\n  File \"/Users/aarshayjain/anaconda3/envs/ecbm4040_project/lib/python3.5/site-packages/IPython/core/interactiveshell.py\", line 2728, in run_cell\n    interactivity=interactivity, compiler=compiler, result=result)\n  File \"/Users/aarshayjain/anaconda3/envs/ecbm4040_project/lib/python3.5/site-packages/IPython/core/interactiveshell.py\", line 2856, in run_ast_nodes\n    if self.run_code(code, result):\n  File \"/Users/aarshayjain/anaconda3/envs/ecbm4040_project/lib/python3.5/site-packages/IPython/core/interactiveshell.py\", line 2910, in run_code\n    exec(code_obj, self.user_global_ns, self.user_ns)\n  File \"<ipython-input-36-5f8f6f29fd92>\", line 2, in <module>\n    cnn.train(xtrain, ytrain, xtest, ytest)\n  File \"/Users/aarshayjain/Google Drive/Fall17/NN_DL/spectral-repr-cnns/src/modules/cnn_with_spectral_pooling.py\", line 215, in train\n    step = self.train_step(loss)\n  File \"/Users/aarshayjain/Google Drive/Fall17/NN_DL/spectral-repr-cnns/src/modules/cnn_with_spectral_pooling.py\", line 190, in train_step\n    step = tf.train.AdamOptimizer(self.learning_rate).minimize(loss)\n  File \"/Users/aarshayjain/anaconda3/envs/ecbm4040_project/lib/python3.5/site-packages/tensorflow/python/training/optimizer.py\", line 343, in minimize\n    grad_loss=grad_loss)\n  File \"/Users/aarshayjain/anaconda3/envs/ecbm4040_project/lib/python3.5/site-packages/tensorflow/python/training/optimizer.py\", line 414, in compute_gradients\n    colocate_gradients_with_ops=colocate_gradients_with_ops)\n  File \"/Users/aarshayjain/anaconda3/envs/ecbm4040_project/lib/python3.5/site-packages/tensorflow/python/ops/gradients_impl.py\", line 581, in gradients\n    grad_scope, op, func_call, lambda: grad_fn(op, *out_grads))\n  File \"/Users/aarshayjain/anaconda3/envs/ecbm4040_project/lib/python3.5/site-packages/tensorflow/python/ops/gradients_impl.py\", line 353, in _MaybeCompile\n    return grad_fn()  # Exit early\n  File \"/Users/aarshayjain/anaconda3/envs/ecbm4040_project/lib/python3.5/site-packages/tensorflow/python/ops/gradients_impl.py\", line 581, in <lambda>\n    grad_scope, op, func_call, lambda: grad_fn(op, *out_grads))\n  File \"/Users/aarshayjain/anaconda3/envs/ecbm4040_project/lib/python3.5/site-packages/tensorflow/python/ops/nn_grad.py\", line 481, in _Conv2DGrad\n    data_format)]\n  File \"/Users/aarshayjain/anaconda3/envs/ecbm4040_project/lib/python3.5/site-packages/tensorflow/python/ops/gen_nn_ops.py\", line 704, in conv2d_backprop_filter\n    use_cudnn_on_gpu=use_cudnn_on_gpu, data_format=data_format, name=name)\n  File \"/Users/aarshayjain/anaconda3/envs/ecbm4040_project/lib/python3.5/site-packages/tensorflow/python/framework/op_def_library.py\", line 787, in _apply_op_helper\n    op_def=op_def)\n  File \"/Users/aarshayjain/anaconda3/envs/ecbm4040_project/lib/python3.5/site-packages/tensorflow/python/framework/ops.py\", line 2956, in create_op\n    op_def=op_def)\n  File \"/Users/aarshayjain/anaconda3/envs/ecbm4040_project/lib/python3.5/site-packages/tensorflow/python/framework/ops.py\", line 1470, in __init__\n    self._traceback = self._graph._extract_stack()  # pylint: disable=protected-access\n\n...which was originally created as op 'inputs/conv_layer_7/conv_layer_7/Conv2D', defined at:\n  File \"/Users/aarshayjain/anaconda3/envs/ecbm4040_project/lib/python3.5/runpy.py\", line 193, in _run_module_as_main\n    \"__main__\", mod_spec)\n[elided 19 identical lines from previous traceback]\n  File \"<ipython-input-36-5f8f6f29fd92>\", line 2, in <module>\n    cnn.train(xtrain, ytrain, xtest, ytest)\n  File \"/Users/aarshayjain/Google Drive/Fall17/NN_DL/spectral-repr-cnns/src/modules/cnn_with_spectral_pooling.py\", line 208, in train\n    output, loss = self.build_graph(xs, ys)\n  File \"/Users/aarshayjain/Google Drive/Fall17/NN_DL/spectral-repr-cnns/src/modules/cnn_with_spectral_pooling.py\", line 144, in build_graph\n    m=self.M + 2)\n  File \"/Users/aarshayjain/Google Drive/Fall17/NN_DL/spectral-repr-cnns/src/modules/layers.py\", line 37, in __init__\n    trainable=True\n  File \"/Users/aarshayjain/anaconda3/envs/ecbm4040_project/lib/python3.5/site-packages/tensorflow/python/layers/convolutional.py\", line 608, in conv2d\n    return layer.apply(inputs)\n  File \"/Users/aarshayjain/anaconda3/envs/ecbm4040_project/lib/python3.5/site-packages/tensorflow/python/layers/base.py\", line 671, in apply\n    return self.__call__(inputs, *args, **kwargs)\n  File \"/Users/aarshayjain/anaconda3/envs/ecbm4040_project/lib/python3.5/site-packages/tensorflow/python/layers/base.py\", line 575, in __call__\n    outputs = self.call(inputs, *args, **kwargs)\n  File \"/Users/aarshayjain/anaconda3/envs/ecbm4040_project/lib/python3.5/site-packages/tensorflow/python/layers/convolutional.py\", line 167, in call\n    outputs = self._convolution_op(inputs, self.kernel)\n  File \"/Users/aarshayjain/anaconda3/envs/ecbm4040_project/lib/python3.5/site-packages/tensorflow/python/ops/nn_ops.py\", line 835, in __call__\n    return self.conv_op(inp, filter)\n  File \"/Users/aarshayjain/anaconda3/envs/ecbm4040_project/lib/python3.5/site-packages/tensorflow/python/ops/nn_ops.py\", line 499, in __call__\n    return self.call(inp, filter)\n  File \"/Users/aarshayjain/anaconda3/envs/ecbm4040_project/lib/python3.5/site-packages/tensorflow/python/ops/nn_ops.py\", line 187, in __call__\n    name=self.name)\n  File \"/Users/aarshayjain/anaconda3/envs/ecbm4040_project/lib/python3.5/site-packages/tensorflow/python/ops/gen_nn_ops.py\", line 631, in conv2d\n    data_format=data_format, name=name)\n  File \"/Users/aarshayjain/anaconda3/envs/ecbm4040_project/lib/python3.5/site-packages/tensorflow/python/framework/op_def_library.py\", line 787, in _apply_op_helper\n    op_def=op_def)\n\nInvalidArgumentError (see above for traceback): Conv2DCustomBackpropFilterOp only supports NHWC.\n\t [[Node: inputs/train_step/gradients/inputs/conv_layer_7/conv_layer_7/Conv2D_grad/Conv2DBackpropFilter = Conv2DBackpropFilter[T=DT_FLOAT, data_format=\"NCHW\", padding=\"VALID\", strides=[1, 1, 1, 1], use_cudnn_on_gpu=true, _device=\"/job:localhost/replica:0/task:0/device:CPU:0\"](inputs/conv_layer_6/conv_layer_6/Relu, inputs/train_step/gradients/inputs/conv_layer_7/conv_layer_7/Conv2D_grad/ShapeN:1, inputs/train_step/gradients/inputs/conv_layer_7/conv_layer_7/BiasAdd_grad/tuple/control_dependency)]]\n",
     "output_type": "error",
     "traceback": [
      "\u001b[0;31m---------------------------------------------------------------------------\u001b[0m",
      "\u001b[0;31mInvalidArgumentError\u001b[0m                      Traceback (most recent call last)",
      "\u001b[0;32m~/anaconda3/envs/ecbm4040_project/lib/python3.5/site-packages/tensorflow/python/client/session.py\u001b[0m in \u001b[0;36m_do_call\u001b[0;34m(self, fn, *args)\u001b[0m\n\u001b[1;32m   1322\u001b[0m     \u001b[0;32mtry\u001b[0m\u001b[0;34m:\u001b[0m\u001b[0;34m\u001b[0m\u001b[0m\n\u001b[0;32m-> 1323\u001b[0;31m       \u001b[0;32mreturn\u001b[0m \u001b[0mfn\u001b[0m\u001b[0;34m(\u001b[0m\u001b[0;34m*\u001b[0m\u001b[0margs\u001b[0m\u001b[0;34m)\u001b[0m\u001b[0;34m\u001b[0m\u001b[0m\n\u001b[0m\u001b[1;32m   1324\u001b[0m     \u001b[0;32mexcept\u001b[0m \u001b[0merrors\u001b[0m\u001b[0;34m.\u001b[0m\u001b[0mOpError\u001b[0m \u001b[0;32mas\u001b[0m \u001b[0me\u001b[0m\u001b[0;34m:\u001b[0m\u001b[0;34m\u001b[0m\u001b[0m\n",
      "\u001b[0;32m~/anaconda3/envs/ecbm4040_project/lib/python3.5/site-packages/tensorflow/python/client/session.py\u001b[0m in \u001b[0;36m_run_fn\u001b[0;34m(session, feed_dict, fetch_list, target_list, options, run_metadata)\u001b[0m\n\u001b[1;32m   1301\u001b[0m                                    \u001b[0mfeed_dict\u001b[0m\u001b[0;34m,\u001b[0m \u001b[0mfetch_list\u001b[0m\u001b[0;34m,\u001b[0m \u001b[0mtarget_list\u001b[0m\u001b[0;34m,\u001b[0m\u001b[0;34m\u001b[0m\u001b[0m\n\u001b[0;32m-> 1302\u001b[0;31m                                    status, run_metadata)\n\u001b[0m\u001b[1;32m   1303\u001b[0m \u001b[0;34m\u001b[0m\u001b[0m\n",
      "\u001b[0;32m~/anaconda3/envs/ecbm4040_project/lib/python3.5/site-packages/tensorflow/python/framework/errors_impl.py\u001b[0m in \u001b[0;36m__exit__\u001b[0;34m(self, type_arg, value_arg, traceback_arg)\u001b[0m\n\u001b[1;32m    472\u001b[0m             \u001b[0mcompat\u001b[0m\u001b[0;34m.\u001b[0m\u001b[0mas_text\u001b[0m\u001b[0;34m(\u001b[0m\u001b[0mc_api\u001b[0m\u001b[0;34m.\u001b[0m\u001b[0mTF_Message\u001b[0m\u001b[0;34m(\u001b[0m\u001b[0mself\u001b[0m\u001b[0;34m.\u001b[0m\u001b[0mstatus\u001b[0m\u001b[0;34m.\u001b[0m\u001b[0mstatus\u001b[0m\u001b[0;34m)\u001b[0m\u001b[0;34m)\u001b[0m\u001b[0;34m,\u001b[0m\u001b[0;34m\u001b[0m\u001b[0m\n\u001b[0;32m--> 473\u001b[0;31m             c_api.TF_GetCode(self.status.status))\n\u001b[0m\u001b[1;32m    474\u001b[0m     \u001b[0;31m# Delete the underlying status object from memory otherwise it stays alive\u001b[0m\u001b[0;34m\u001b[0m\u001b[0;34m\u001b[0m\u001b[0m\n",
      "\u001b[0;31mInvalidArgumentError\u001b[0m: Conv2DCustomBackpropFilterOp only supports NHWC.\n\t [[Node: inputs/train_step/gradients/inputs/conv_layer_7/conv_layer_7/Conv2D_grad/Conv2DBackpropFilter = Conv2DBackpropFilter[T=DT_FLOAT, data_format=\"NCHW\", padding=\"VALID\", strides=[1, 1, 1, 1], use_cudnn_on_gpu=true, _device=\"/job:localhost/replica:0/task:0/device:CPU:0\"](inputs/conv_layer_6/conv_layer_6/Relu, inputs/train_step/gradients/inputs/conv_layer_7/conv_layer_7/Conv2D_grad/ShapeN:1, inputs/train_step/gradients/inputs/conv_layer_7/conv_layer_7/BiasAdd_grad/tuple/control_dependency)]]",
      "\nDuring handling of the above exception, another exception occurred:\n",
      "\u001b[0;31mInvalidArgumentError\u001b[0m                      Traceback (most recent call last)",
      "\u001b[0;32m<ipython-input-36-5f8f6f29fd92>\u001b[0m in \u001b[0;36m<module>\u001b[0;34m()\u001b[0m\n\u001b[1;32m      1\u001b[0m \u001b[0mtf\u001b[0m\u001b[0;34m.\u001b[0m\u001b[0mreset_default_graph\u001b[0m\u001b[0;34m(\u001b[0m\u001b[0;34m)\u001b[0m\u001b[0;34m\u001b[0m\u001b[0m\n\u001b[0;32m----> 2\u001b[0;31m \u001b[0mcnn\u001b[0m\u001b[0;34m.\u001b[0m\u001b[0mtrain\u001b[0m\u001b[0;34m(\u001b[0m\u001b[0mxtrain\u001b[0m\u001b[0;34m,\u001b[0m \u001b[0mytrain\u001b[0m\u001b[0;34m,\u001b[0m \u001b[0mxtest\u001b[0m\u001b[0;34m,\u001b[0m \u001b[0mytest\u001b[0m\u001b[0;34m)\u001b[0m\u001b[0;34m\u001b[0m\u001b[0m\n\u001b[0m",
      "\u001b[0;32m~/Google Drive/Fall17/NN_DL/spectral-repr-cnns/src/modules/cnn_with_spectral_pooling.py\u001b[0m in \u001b[0;36mtrain\u001b[0;34m(self, X_train, y_train, X_val, y_test, batch_size, epochs)\u001b[0m\n\u001b[1;32m    236\u001b[0m                                             \u001b[0;34m[\u001b[0m\u001b[0mstep\u001b[0m\u001b[0;34m,\u001b[0m \u001b[0mloss\u001b[0m\u001b[0;34m,\u001b[0m \u001b[0meve\u001b[0m\u001b[0;34m]\u001b[0m\u001b[0;34m,\u001b[0m\u001b[0;34m\u001b[0m\u001b[0m\n\u001b[1;32m    237\u001b[0m                                             feed_dict={xs: training_batch_x,\n\u001b[0;32m--> 238\u001b[0;31m                                                        ys: training_batch_y})\n\u001b[0m\u001b[1;32m    239\u001b[0m                         \u001b[0mloss_vals\u001b[0m\u001b[0;34m.\u001b[0m\u001b[0mappend\u001b[0m\u001b[0;34m(\u001b[0m\u001b[0mcur_loss\u001b[0m\u001b[0;34m)\u001b[0m\u001b[0;34m\u001b[0m\u001b[0m\n\u001b[1;32m    240\u001b[0m         \u001b[0;32mreturn\u001b[0m \u001b[0mloss_vals\u001b[0m\u001b[0;34m\u001b[0m\u001b[0m\n",
      "\u001b[0;32m~/anaconda3/envs/ecbm4040_project/lib/python3.5/site-packages/tensorflow/python/client/session.py\u001b[0m in \u001b[0;36mrun\u001b[0;34m(self, fetches, feed_dict, options, run_metadata)\u001b[0m\n\u001b[1;32m    887\u001b[0m     \u001b[0;32mtry\u001b[0m\u001b[0;34m:\u001b[0m\u001b[0;34m\u001b[0m\u001b[0m\n\u001b[1;32m    888\u001b[0m       result = self._run(None, fetches, feed_dict, options_ptr,\n\u001b[0;32m--> 889\u001b[0;31m                          run_metadata_ptr)\n\u001b[0m\u001b[1;32m    890\u001b[0m       \u001b[0;32mif\u001b[0m \u001b[0mrun_metadata\u001b[0m\u001b[0;34m:\u001b[0m\u001b[0;34m\u001b[0m\u001b[0m\n\u001b[1;32m    891\u001b[0m         \u001b[0mproto_data\u001b[0m \u001b[0;34m=\u001b[0m \u001b[0mtf_session\u001b[0m\u001b[0;34m.\u001b[0m\u001b[0mTF_GetBuffer\u001b[0m\u001b[0;34m(\u001b[0m\u001b[0mrun_metadata_ptr\u001b[0m\u001b[0;34m)\u001b[0m\u001b[0;34m\u001b[0m\u001b[0m\n",
      "\u001b[0;32m~/anaconda3/envs/ecbm4040_project/lib/python3.5/site-packages/tensorflow/python/client/session.py\u001b[0m in \u001b[0;36m_run\u001b[0;34m(self, handle, fetches, feed_dict, options, run_metadata)\u001b[0m\n\u001b[1;32m   1118\u001b[0m     \u001b[0;32mif\u001b[0m \u001b[0mfinal_fetches\u001b[0m \u001b[0;32mor\u001b[0m \u001b[0mfinal_targets\u001b[0m \u001b[0;32mor\u001b[0m \u001b[0;34m(\u001b[0m\u001b[0mhandle\u001b[0m \u001b[0;32mand\u001b[0m \u001b[0mfeed_dict_tensor\u001b[0m\u001b[0;34m)\u001b[0m\u001b[0;34m:\u001b[0m\u001b[0;34m\u001b[0m\u001b[0m\n\u001b[1;32m   1119\u001b[0m       results = self._do_run(handle, final_targets, final_fetches,\n\u001b[0;32m-> 1120\u001b[0;31m                              feed_dict_tensor, options, run_metadata)\n\u001b[0m\u001b[1;32m   1121\u001b[0m     \u001b[0;32melse\u001b[0m\u001b[0;34m:\u001b[0m\u001b[0;34m\u001b[0m\u001b[0m\n\u001b[1;32m   1122\u001b[0m       \u001b[0mresults\u001b[0m \u001b[0;34m=\u001b[0m \u001b[0;34m[\u001b[0m\u001b[0;34m]\u001b[0m\u001b[0;34m\u001b[0m\u001b[0m\n",
      "\u001b[0;32m~/anaconda3/envs/ecbm4040_project/lib/python3.5/site-packages/tensorflow/python/client/session.py\u001b[0m in \u001b[0;36m_do_run\u001b[0;34m(self, handle, target_list, fetch_list, feed_dict, options, run_metadata)\u001b[0m\n\u001b[1;32m   1315\u001b[0m     \u001b[0;32mif\u001b[0m \u001b[0mhandle\u001b[0m \u001b[0;32mis\u001b[0m \u001b[0;32mNone\u001b[0m\u001b[0;34m:\u001b[0m\u001b[0;34m\u001b[0m\u001b[0m\n\u001b[1;32m   1316\u001b[0m       return self._do_call(_run_fn, self._session, feeds, fetches, targets,\n\u001b[0;32m-> 1317\u001b[0;31m                            options, run_metadata)\n\u001b[0m\u001b[1;32m   1318\u001b[0m     \u001b[0;32melse\u001b[0m\u001b[0;34m:\u001b[0m\u001b[0;34m\u001b[0m\u001b[0m\n\u001b[1;32m   1319\u001b[0m       \u001b[0;32mreturn\u001b[0m \u001b[0mself\u001b[0m\u001b[0;34m.\u001b[0m\u001b[0m_do_call\u001b[0m\u001b[0;34m(\u001b[0m\u001b[0m_prun_fn\u001b[0m\u001b[0;34m,\u001b[0m \u001b[0mself\u001b[0m\u001b[0;34m.\u001b[0m\u001b[0m_session\u001b[0m\u001b[0;34m,\u001b[0m \u001b[0mhandle\u001b[0m\u001b[0;34m,\u001b[0m \u001b[0mfeeds\u001b[0m\u001b[0;34m,\u001b[0m \u001b[0mfetches\u001b[0m\u001b[0;34m)\u001b[0m\u001b[0;34m\u001b[0m\u001b[0m\n",
      "\u001b[0;32m~/anaconda3/envs/ecbm4040_project/lib/python3.5/site-packages/tensorflow/python/client/session.py\u001b[0m in \u001b[0;36m_do_call\u001b[0;34m(self, fn, *args)\u001b[0m\n\u001b[1;32m   1334\u001b[0m         \u001b[0;32mexcept\u001b[0m \u001b[0mKeyError\u001b[0m\u001b[0;34m:\u001b[0m\u001b[0;34m\u001b[0m\u001b[0m\n\u001b[1;32m   1335\u001b[0m           \u001b[0;32mpass\u001b[0m\u001b[0;34m\u001b[0m\u001b[0m\n\u001b[0;32m-> 1336\u001b[0;31m       \u001b[0;32mraise\u001b[0m \u001b[0mtype\u001b[0m\u001b[0;34m(\u001b[0m\u001b[0me\u001b[0m\u001b[0;34m)\u001b[0m\u001b[0;34m(\u001b[0m\u001b[0mnode_def\u001b[0m\u001b[0;34m,\u001b[0m \u001b[0mop\u001b[0m\u001b[0;34m,\u001b[0m \u001b[0mmessage\u001b[0m\u001b[0;34m)\u001b[0m\u001b[0;34m\u001b[0m\u001b[0m\n\u001b[0m\u001b[1;32m   1337\u001b[0m \u001b[0;34m\u001b[0m\u001b[0m\n\u001b[1;32m   1338\u001b[0m   \u001b[0;32mdef\u001b[0m \u001b[0m_extend_graph\u001b[0m\u001b[0;34m(\u001b[0m\u001b[0mself\u001b[0m\u001b[0;34m)\u001b[0m\u001b[0;34m:\u001b[0m\u001b[0;34m\u001b[0m\u001b[0m\n",
      "\u001b[0;31mInvalidArgumentError\u001b[0m: Conv2DCustomBackpropFilterOp only supports NHWC.\n\t [[Node: inputs/train_step/gradients/inputs/conv_layer_7/conv_layer_7/Conv2D_grad/Conv2DBackpropFilter = Conv2DBackpropFilter[T=DT_FLOAT, data_format=\"NCHW\", padding=\"VALID\", strides=[1, 1, 1, 1], use_cudnn_on_gpu=true, _device=\"/job:localhost/replica:0/task:0/device:CPU:0\"](inputs/conv_layer_6/conv_layer_6/Relu, inputs/train_step/gradients/inputs/conv_layer_7/conv_layer_7/Conv2D_grad/ShapeN:1, inputs/train_step/gradients/inputs/conv_layer_7/conv_layer_7/BiasAdd_grad/tuple/control_dependency)]]\n\nCaused by op 'inputs/train_step/gradients/inputs/conv_layer_7/conv_layer_7/Conv2D_grad/Conv2DBackpropFilter', defined at:\n  File \"/Users/aarshayjain/anaconda3/envs/ecbm4040_project/lib/python3.5/runpy.py\", line 193, in _run_module_as_main\n    \"__main__\", mod_spec)\n  File \"/Users/aarshayjain/anaconda3/envs/ecbm4040_project/lib/python3.5/runpy.py\", line 85, in _run_code\n    exec(code, run_globals)\n  File \"/Users/aarshayjain/anaconda3/envs/ecbm4040_project/lib/python3.5/site-packages/ipykernel_launcher.py\", line 16, in <module>\n    app.launch_new_instance()\n  File \"/Users/aarshayjain/anaconda3/envs/ecbm4040_project/lib/python3.5/site-packages/traitlets/config/application.py\", line 658, in launch_instance\n    app.start()\n  File \"/Users/aarshayjain/anaconda3/envs/ecbm4040_project/lib/python3.5/site-packages/ipykernel/kernelapp.py\", line 477, in start\n    ioloop.IOLoop.instance().start()\n  File \"/Users/aarshayjain/anaconda3/envs/ecbm4040_project/lib/python3.5/site-packages/zmq/eventloop/ioloop.py\", line 177, in start\n    super(ZMQIOLoop, self).start()\n  File \"/Users/aarshayjain/anaconda3/envs/ecbm4040_project/lib/python3.5/site-packages/tornado/ioloop.py\", line 888, in start\n    handler_func(fd_obj, events)\n  File \"/Users/aarshayjain/anaconda3/envs/ecbm4040_project/lib/python3.5/site-packages/tornado/stack_context.py\", line 277, in null_wrapper\n    return fn(*args, **kwargs)\n  File \"/Users/aarshayjain/anaconda3/envs/ecbm4040_project/lib/python3.5/site-packages/zmq/eventloop/zmqstream.py\", line 440, in _handle_events\n    self._handle_recv()\n  File \"/Users/aarshayjain/anaconda3/envs/ecbm4040_project/lib/python3.5/site-packages/zmq/eventloop/zmqstream.py\", line 472, in _handle_recv\n    self._run_callback(callback, msg)\n  File \"/Users/aarshayjain/anaconda3/envs/ecbm4040_project/lib/python3.5/site-packages/zmq/eventloop/zmqstream.py\", line 414, in _run_callback\n    callback(*args, **kwargs)\n  File \"/Users/aarshayjain/anaconda3/envs/ecbm4040_project/lib/python3.5/site-packages/tornado/stack_context.py\", line 277, in null_wrapper\n    return fn(*args, **kwargs)\n  File \"/Users/aarshayjain/anaconda3/envs/ecbm4040_project/lib/python3.5/site-packages/ipykernel/kernelbase.py\", line 283, in dispatcher\n    return self.dispatch_shell(stream, msg)\n  File \"/Users/aarshayjain/anaconda3/envs/ecbm4040_project/lib/python3.5/site-packages/ipykernel/kernelbase.py\", line 235, in dispatch_shell\n    handler(stream, idents, msg)\n  File \"/Users/aarshayjain/anaconda3/envs/ecbm4040_project/lib/python3.5/site-packages/ipykernel/kernelbase.py\", line 399, in execute_request\n    user_expressions, allow_stdin)\n  File \"/Users/aarshayjain/anaconda3/envs/ecbm4040_project/lib/python3.5/site-packages/ipykernel/ipkernel.py\", line 196, in do_execute\n    res = shell.run_cell(code, store_history=store_history, silent=silent)\n  File \"/Users/aarshayjain/anaconda3/envs/ecbm4040_project/lib/python3.5/site-packages/ipykernel/zmqshell.py\", line 533, in run_cell\n    return super(ZMQInteractiveShell, self).run_cell(*args, **kwargs)\n  File \"/Users/aarshayjain/anaconda3/envs/ecbm4040_project/lib/python3.5/site-packages/IPython/core/interactiveshell.py\", line 2728, in run_cell\n    interactivity=interactivity, compiler=compiler, result=result)\n  File \"/Users/aarshayjain/anaconda3/envs/ecbm4040_project/lib/python3.5/site-packages/IPython/core/interactiveshell.py\", line 2856, in run_ast_nodes\n    if self.run_code(code, result):\n  File \"/Users/aarshayjain/anaconda3/envs/ecbm4040_project/lib/python3.5/site-packages/IPython/core/interactiveshell.py\", line 2910, in run_code\n    exec(code_obj, self.user_global_ns, self.user_ns)\n  File \"<ipython-input-36-5f8f6f29fd92>\", line 2, in <module>\n    cnn.train(xtrain, ytrain, xtest, ytest)\n  File \"/Users/aarshayjain/Google Drive/Fall17/NN_DL/spectral-repr-cnns/src/modules/cnn_with_spectral_pooling.py\", line 215, in train\n    step = self.train_step(loss)\n  File \"/Users/aarshayjain/Google Drive/Fall17/NN_DL/spectral-repr-cnns/src/modules/cnn_with_spectral_pooling.py\", line 190, in train_step\n    step = tf.train.AdamOptimizer(self.learning_rate).minimize(loss)\n  File \"/Users/aarshayjain/anaconda3/envs/ecbm4040_project/lib/python3.5/site-packages/tensorflow/python/training/optimizer.py\", line 343, in minimize\n    grad_loss=grad_loss)\n  File \"/Users/aarshayjain/anaconda3/envs/ecbm4040_project/lib/python3.5/site-packages/tensorflow/python/training/optimizer.py\", line 414, in compute_gradients\n    colocate_gradients_with_ops=colocate_gradients_with_ops)\n  File \"/Users/aarshayjain/anaconda3/envs/ecbm4040_project/lib/python3.5/site-packages/tensorflow/python/ops/gradients_impl.py\", line 581, in gradients\n    grad_scope, op, func_call, lambda: grad_fn(op, *out_grads))\n  File \"/Users/aarshayjain/anaconda3/envs/ecbm4040_project/lib/python3.5/site-packages/tensorflow/python/ops/gradients_impl.py\", line 353, in _MaybeCompile\n    return grad_fn()  # Exit early\n  File \"/Users/aarshayjain/anaconda3/envs/ecbm4040_project/lib/python3.5/site-packages/tensorflow/python/ops/gradients_impl.py\", line 581, in <lambda>\n    grad_scope, op, func_call, lambda: grad_fn(op, *out_grads))\n  File \"/Users/aarshayjain/anaconda3/envs/ecbm4040_project/lib/python3.5/site-packages/tensorflow/python/ops/nn_grad.py\", line 481, in _Conv2DGrad\n    data_format)]\n  File \"/Users/aarshayjain/anaconda3/envs/ecbm4040_project/lib/python3.5/site-packages/tensorflow/python/ops/gen_nn_ops.py\", line 704, in conv2d_backprop_filter\n    use_cudnn_on_gpu=use_cudnn_on_gpu, data_format=data_format, name=name)\n  File \"/Users/aarshayjain/anaconda3/envs/ecbm4040_project/lib/python3.5/site-packages/tensorflow/python/framework/op_def_library.py\", line 787, in _apply_op_helper\n    op_def=op_def)\n  File \"/Users/aarshayjain/anaconda3/envs/ecbm4040_project/lib/python3.5/site-packages/tensorflow/python/framework/ops.py\", line 2956, in create_op\n    op_def=op_def)\n  File \"/Users/aarshayjain/anaconda3/envs/ecbm4040_project/lib/python3.5/site-packages/tensorflow/python/framework/ops.py\", line 1470, in __init__\n    self._traceback = self._graph._extract_stack()  # pylint: disable=protected-access\n\n...which was originally created as op 'inputs/conv_layer_7/conv_layer_7/Conv2D', defined at:\n  File \"/Users/aarshayjain/anaconda3/envs/ecbm4040_project/lib/python3.5/runpy.py\", line 193, in _run_module_as_main\n    \"__main__\", mod_spec)\n[elided 19 identical lines from previous traceback]\n  File \"<ipython-input-36-5f8f6f29fd92>\", line 2, in <module>\n    cnn.train(xtrain, ytrain, xtest, ytest)\n  File \"/Users/aarshayjain/Google Drive/Fall17/NN_DL/spectral-repr-cnns/src/modules/cnn_with_spectral_pooling.py\", line 208, in train\n    output, loss = self.build_graph(xs, ys)\n  File \"/Users/aarshayjain/Google Drive/Fall17/NN_DL/spectral-repr-cnns/src/modules/cnn_with_spectral_pooling.py\", line 144, in build_graph\n    m=self.M + 2)\n  File \"/Users/aarshayjain/Google Drive/Fall17/NN_DL/spectral-repr-cnns/src/modules/layers.py\", line 37, in __init__\n    trainable=True\n  File \"/Users/aarshayjain/anaconda3/envs/ecbm4040_project/lib/python3.5/site-packages/tensorflow/python/layers/convolutional.py\", line 608, in conv2d\n    return layer.apply(inputs)\n  File \"/Users/aarshayjain/anaconda3/envs/ecbm4040_project/lib/python3.5/site-packages/tensorflow/python/layers/base.py\", line 671, in apply\n    return self.__call__(inputs, *args, **kwargs)\n  File \"/Users/aarshayjain/anaconda3/envs/ecbm4040_project/lib/python3.5/site-packages/tensorflow/python/layers/base.py\", line 575, in __call__\n    outputs = self.call(inputs, *args, **kwargs)\n  File \"/Users/aarshayjain/anaconda3/envs/ecbm4040_project/lib/python3.5/site-packages/tensorflow/python/layers/convolutional.py\", line 167, in call\n    outputs = self._convolution_op(inputs, self.kernel)\n  File \"/Users/aarshayjain/anaconda3/envs/ecbm4040_project/lib/python3.5/site-packages/tensorflow/python/ops/nn_ops.py\", line 835, in __call__\n    return self.conv_op(inp, filter)\n  File \"/Users/aarshayjain/anaconda3/envs/ecbm4040_project/lib/python3.5/site-packages/tensorflow/python/ops/nn_ops.py\", line 499, in __call__\n    return self.call(inp, filter)\n  File \"/Users/aarshayjain/anaconda3/envs/ecbm4040_project/lib/python3.5/site-packages/tensorflow/python/ops/nn_ops.py\", line 187, in __call__\n    name=self.name)\n  File \"/Users/aarshayjain/anaconda3/envs/ecbm4040_project/lib/python3.5/site-packages/tensorflow/python/ops/gen_nn_ops.py\", line 631, in conv2d\n    data_format=data_format, name=name)\n  File \"/Users/aarshayjain/anaconda3/envs/ecbm4040_project/lib/python3.5/site-packages/tensorflow/python/framework/op_def_library.py\", line 787, in _apply_op_helper\n    op_def=op_def)\n\nInvalidArgumentError (see above for traceback): Conv2DCustomBackpropFilterOp only supports NHWC.\n\t [[Node: inputs/train_step/gradients/inputs/conv_layer_7/conv_layer_7/Conv2D_grad/Conv2DBackpropFilter = Conv2DBackpropFilter[T=DT_FLOAT, data_format=\"NCHW\", padding=\"VALID\", strides=[1, 1, 1, 1], use_cudnn_on_gpu=true, _device=\"/job:localhost/replica:0/task:0/device:CPU:0\"](inputs/conv_layer_6/conv_layer_6/Relu, inputs/train_step/gradients/inputs/conv_layer_7/conv_layer_7/Conv2D_grad/ShapeN:1, inputs/train_step/gradients/inputs/conv_layer_7/conv_layer_7/BiasAdd_grad/tuple/control_dependency)]]\n"
     ]
    }
   ],
   "source": [
    "tf.reset_default_graph()\n",
    "cnn.train(xtrain, ytrain, xtest, ytest)"
   ]
  },
  {
   "cell_type": "code",
   "execution_count": null,
   "metadata": {
    "collapsed": true
   },
   "outputs": [],
   "source": []
  }
 ],
 "metadata": {
  "kernelspec": {
   "display_name": "ecbm4040_project",
   "language": "python",
   "name": "ecbm4040_project"
  },
  "language_info": {
   "codemirror_mode": {
    "name": "ipython",
    "version": 3
   },
   "file_extension": ".py",
   "mimetype": "text/x-python",
   "name": "python",
   "nbconvert_exporter": "python",
   "pygments_lexer": "ipython3",
   "version": "3.5.4"
  }
 },
 "nbformat": 4,
 "nbformat_minor": 2
}
