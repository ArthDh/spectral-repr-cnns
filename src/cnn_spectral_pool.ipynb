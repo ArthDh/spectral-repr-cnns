{
 "cells": [
  {
   "cell_type": "code",
   "execution_count": 1,
   "metadata": {
    "collapsed": true
   },
   "outputs": [],
   "source": [
    "import numpy as np\n",
    "import tensorflow as tf\n",
    "import matplotlib.pylab as plt\n",
    "\n",
    "from modules.utils import load_cifar10\n",
    "from modules.train import train\n",
    "from modules.cnn_with_spectral_pooling import CNN_Spectral_Pool\n",
    "\n",
    "% matplotlib inline\n",
    "% load_ext autoreload\n",
    "% autoreload 2"
   ]
  },
  {
   "cell_type": "code",
   "execution_count": 2,
   "metadata": {},
   "outputs": [
    {
     "name": "stdout",
     "output_type": "stream",
     "text": [
      "file already downloaded..\n",
      "getting batch 1\n"
     ]
    }
   ],
   "source": [
    "xtrain, ytrain, xtest, ytest = load_cifar10(1, get_test_data=True, channels_last=True)"
   ]
  },
  {
   "cell_type": "code",
   "execution_count": 3,
   "metadata": {},
   "outputs": [
    {
     "data": {
      "text/plain": [
       "((10000, 32, 32, 3), (10000,), (10000, 32, 32, 3), (10000,))"
      ]
     },
     "execution_count": 3,
     "metadata": {},
     "output_type": "execute_result"
    }
   ],
   "source": [
    "xtrain.shape, ytrain.shape, xtest.shape, ytest.shape"
   ]
  },
  {
   "cell_type": "code",
   "execution_count": 6,
   "metadata": {},
   "outputs": [
    {
     "data": {
      "text/plain": [
       "(32, 32, 32, 3)"
      ]
     },
     "execution_count": 6,
     "metadata": {},
     "output_type": "execute_result"
    }
   ],
   "source": [
    "# # take a small batch for testing architecture\n",
    "sample_size = 32\n",
    "sampleind = np.random.choice(np.arange(xtrain.shape[0]),\n",
    "                             size=sample_size, replace=False)\n",
    "xtrain_sample = xtrain[sampleind]\n",
    "ytrain_sample = ytrain[sampleind]\n",
    "assert len(np.unique(ytrain_sample)) == 10\n",
    "xtrain_sample.shape"
   ]
  },
  {
   "cell_type": "markdown",
   "metadata": {},
   "source": [
    "## test build graph:"
   ]
  },
  {
   "cell_type": "code",
   "execution_count": 37,
   "metadata": {
    "scrolled": true
   },
   "outputs": [
    {
     "name": "stdout",
     "output_type": "stream",
     "text": [
      "Building tf graph...\n",
      "Adding conv layer 1 | Input size: 32 | Input channels: 3 | #filters: 128 | filter size: 3\n",
      "Adding spectral pool layer 1 | Input size: 32 | filter size: (27,27) | Freq Dropout: 22\n",
      "Adding conv layer 2 | Input size: 27 | Input channels: 128 | #filters: 160 | filter size: 3\n",
      "Adding spectral pool layer 2 | Input size: 27 | filter size: (21,21) | Freq Dropout: 16\n",
      "Adding conv layer 3 | Input size: 21 | Input channels: 160 | #filters: 192 | filter size: 3\n",
      "Adding spectral pool layer 3 | Input size: 21 | filter size: (17,17) | Freq Dropout: 18\n",
      "Adding conv layer 4 | Input size: 17 | Input channels: 192 | #filters: 192 | filter size: 1\n",
      "Adding conv layer 5 | Input size: 17 | Input channels: 192 | #filters: 10 | filter size: 1\n",
      "Adding final softmax layer using global averaging\n",
      "number of batches for training: 1\n",
      "training epoch 1 \n",
      "32/32 loss: 3.199604034423828 | training accuracy: 12.500% | validation accuracy : 15.625%\n",
      "\n",
      "\tBest validation accuracy! iteration:1 accuracy: 15.625%\n",
      "\n",
      "training epoch 2 \n",
      "32/32 loss: 3.0513901710510254 | training accuracy: 15.625% | validation accuracy : 15.625%\n",
      "training epoch 3 \n",
      "32/32 loss: 3.0074269771575928 | training accuracy: 15.625% | validation accuracy : 15.625%\n",
      "training epoch 4 \n",
      "32/32 loss: 2.996406078338623 | training accuracy: 15.625% | validation accuracy : 15.625%\n",
      "training epoch 5 \n",
      "32/32 loss: 2.9875540733337402 | training accuracy: 15.625% | validation accuracy : 15.625%\n",
      "training epoch 6 \n",
      "32/32 loss: 2.97353196144104 | training accuracy: 15.625% | validation accuracy : 15.625%\n",
      "training epoch 7 \n",
      "32/32 loss: 2.9551305770874023 | training accuracy: 15.625% | validation accuracy : 18.750%\n",
      "\n",
      "\tBest validation accuracy! iteration:7 accuracy: 18.75%\n",
      "\n",
      "training epoch 8 \n",
      "32/32 loss: 2.938798427581787 | training accuracy: 18.750% | validation accuracy : 21.875%\n",
      "\n",
      "\tBest validation accuracy! iteration:8 accuracy: 21.875%\n",
      "\n",
      "training epoch 9 \n",
      "32/32 loss: 2.922351598739624 | training accuracy: 21.875% | validation accuracy : 25.000%\n",
      "\n",
      "\tBest validation accuracy! iteration:9 accuracy: 25.0%\n",
      "\n",
      "training epoch 10 \n",
      "32/32 loss: 2.9036355018615723 | training accuracy: 25.000% | validation accuracy : 31.250%\n",
      "\n",
      "\tBest validation accuracy! iteration:10 accuracy: 31.25%\n",
      "\n",
      "training epoch 11 \n",
      "32/32 loss: 2.884143352508545 | training accuracy: 34.375% | validation accuracy : 28.125%\n",
      "training epoch 12 \n",
      "32/32 loss: 2.8637168407440186 | training accuracy: 28.125% | validation accuracy : 28.125%\n",
      "training epoch 13 \n",
      "32/32 loss: 2.8414995670318604 | training accuracy: 28.125% | validation accuracy : 28.125%\n",
      "training epoch 14 \n",
      "32/32 loss: 2.818763017654419 | training accuracy: 28.125% | validation accuracy : 28.125%\n",
      "training epoch 15 \n",
      "32/32 loss: 2.797501802444458 | training accuracy: 28.125% | validation accuracy : 31.250%\n",
      "training epoch 16 \n",
      "32/32 loss: 2.7782673835754395 | training accuracy: 31.250% | validation accuracy : 31.250%\n",
      "training epoch 17 \n",
      "32/32 loss: 2.7603697776794434 | training accuracy: 31.250% | validation accuracy : 31.250%\n",
      "training epoch 18 \n",
      "32/32 loss: 2.7430527210235596 | training accuracy: 31.250% | validation accuracy : 37.500%\n",
      "\n",
      "\tBest validation accuracy! iteration:18 accuracy: 37.5%\n",
      "\n",
      "training epoch 19 \n",
      "32/32 loss: 2.725698709487915 | training accuracy: 37.500% | validation accuracy : 34.375%\n",
      "training epoch 20 \n",
      "32/32 loss: 2.7078840732574463 | training accuracy: 34.375% | validation accuracy : 34.375%\n",
      "training epoch 21 \n",
      "32/32 loss: 2.689704179763794 | training accuracy: 34.375% | validation accuracy : 34.375%\n",
      "training epoch 22 \n",
      "32/32 loss: 2.671449661254883 | training accuracy: 34.375% | validation accuracy : 34.375%\n",
      "training epoch 23 \n",
      "32/32 loss: 2.6531994342803955 | training accuracy: 34.375% | validation accuracy : 34.375%\n",
      "training epoch 24 \n",
      "32/32 loss: 2.6351335048675537 | training accuracy: 34.375% | validation accuracy : 37.500%\n",
      "training epoch 25 \n",
      "32/32 loss: 2.6175200939178467 | training accuracy: 37.500% | validation accuracy : 37.500%\n",
      "training epoch 26 \n",
      "32/32 loss: 2.600268840789795 | training accuracy: 37.500% | validation accuracy : 40.625%\n",
      "\n",
      "\tBest validation accuracy! iteration:26 accuracy: 40.625%\n",
      "\n",
      "training epoch 27 \n",
      "32/32 loss: 2.583256244659424 | training accuracy: 40.625% | validation accuracy : 37.500%\n",
      "training epoch 28 \n",
      "32/32 loss: 2.5665459632873535 | training accuracy: 37.500% | validation accuracy : 37.500%\n",
      "training epoch 29 \n",
      "32/32 loss: 2.5500612258911133 | training accuracy: 37.500% | validation accuracy : 37.500%\n",
      "training epoch 30 \n",
      "32/32 loss: 2.5339057445526123 | training accuracy: 37.500% | validation accuracy : 37.500%\n",
      "training epoch 31 \n",
      "32/32 loss: 2.5182855129241943 | training accuracy: 37.500% | validation accuracy : 37.500%\n",
      "training epoch 32 \n",
      "32/32 loss: 2.5031392574310303 | training accuracy: 37.500% | validation accuracy : 40.625%\n",
      "training epoch 33 \n",
      "32/32 loss: 2.4885330200195312 | training accuracy: 40.625% | validation accuracy : 40.625%\n",
      "training epoch 34 \n",
      "32/32 loss: 2.474335193634033 | training accuracy: 40.625% | validation accuracy : 40.625%\n",
      "training epoch 35 \n",
      "32/32 loss: 2.4604034423828125 | training accuracy: 40.625% | validation accuracy : 37.500%\n",
      "training epoch 36 \n",
      "32/32 loss: 2.4467384815216064 | training accuracy: 37.500% | validation accuracy : 37.500%\n",
      "training epoch 37 \n",
      "32/32 loss: 2.4333367347717285 | training accuracy: 37.500% | validation accuracy : 37.500%\n",
      "training epoch 38 \n",
      "32/32 loss: 2.4203739166259766 | training accuracy: 37.500% | validation accuracy : 37.500%\n",
      "training epoch 39 \n",
      "32/32 loss: 2.4077775478363037 | training accuracy: 37.500% | validation accuracy : 37.500%\n",
      "training epoch 40 \n",
      "32/32 loss: 2.3955726623535156 | training accuracy: 37.500% | validation accuracy : 37.500%\n",
      "training epoch 41 \n",
      "32/32 loss: 2.383669853210449 | training accuracy: 37.500% | validation accuracy : 37.500%\n",
      "training epoch 42 \n",
      "32/32 loss: 2.3721282482147217 | training accuracy: 37.500% | validation accuracy : 37.500%\n",
      "training epoch 43 \n",
      "32/32 loss: 2.3608272075653076 | training accuracy: 37.500% | validation accuracy : 37.500%\n",
      "training epoch 44 \n",
      "32/32 loss: 2.3497519493103027 | training accuracy: 37.500% | validation accuracy : 34.375%\n",
      "training epoch 45 \n",
      "32/32 loss: 2.338912010192871 | training accuracy: 37.500% | validation accuracy : 37.500%\n",
      "training epoch 46 \n",
      "32/32 loss: 2.328378200531006 | training accuracy: 37.500% | validation accuracy : 37.500%\n",
      "training epoch 47 \n",
      "32/32 loss: 2.318185329437256 | training accuracy: 37.500% | validation accuracy : 34.375%\n",
      "training epoch 48 \n",
      "32/32 loss: 2.308246612548828 | training accuracy: 37.500% | validation accuracy : 34.375%\n",
      "training epoch 49 \n",
      "32/32 loss: 2.298555850982666 | training accuracy: 34.375% | validation accuracy : 37.500%\n",
      "training epoch 50 \n",
      "32/32 loss: 2.28908634185791 | training accuracy: 37.500% | validation accuracy : 37.500%\n",
      "training epoch 51 \n",
      "32/32 loss: 2.279804229736328 | training accuracy: 37.500% | validation accuracy : 40.625%\n",
      "training epoch 52 \n",
      "32/32 loss: 2.2707324028015137 | training accuracy: 40.625% | validation accuracy : 40.625%\n",
      "training epoch 53 \n",
      "32/32 loss: 2.2618794441223145 | training accuracy: 40.625% | validation accuracy : 40.625%\n",
      "training epoch 54 \n",
      "32/32 loss: 2.25323486328125 | training accuracy: 40.625% | validation accuracy : 40.625%\n",
      "training epoch 55 \n",
      "32/32 loss: 2.244769811630249 | training accuracy: 40.625% | validation accuracy : 40.625%\n",
      "training epoch 56 \n",
      "32/32 loss: 2.2364509105682373 | training accuracy: 40.625% | validation accuracy : 40.625%\n",
      "training epoch 57 \n",
      "32/32 loss: 2.22829008102417 | training accuracy: 40.625% | validation accuracy : 37.500%\n",
      "training epoch 58 \n",
      "32/32 loss: 2.220304489135742 | training accuracy: 40.625% | validation accuracy : 37.500%\n",
      "training epoch 59 \n",
      "32/32 loss: 2.2125306129455566 | training accuracy: 37.500% | validation accuracy : 37.500%\n",
      "training epoch 60 \n",
      "32/32 loss: 2.2049872875213623 | training accuracy: 37.500% | validation accuracy : 37.500%\n",
      "training epoch 61 \n",
      "32/32 loss: 2.197654962539673 | training accuracy: 37.500% | validation accuracy : 37.500%\n",
      "training epoch 62 \n",
      "32/32 loss: 2.190511703491211 | training accuracy: 37.500% | validation accuracy : 37.500%\n",
      "training epoch 63 \n",
      "32/32 loss: 2.183568239212036 | training accuracy: 37.500% | validation accuracy : 37.500%\n",
      "training epoch 64 \n"
     ]
    },
    {
     "name": "stdout",
     "output_type": "stream",
     "text": [
      "32/32 loss: 2.176835060119629 | training accuracy: 37.500% | validation accuracy : 37.500%\n",
      "training epoch 65 \n",
      "32/32 loss: 2.170301914215088 | training accuracy: 37.500% | validation accuracy : 40.625%\n",
      "training epoch 66 \n",
      "32/32 loss: 2.163956642150879 | training accuracy: 40.625% | validation accuracy : 43.750%\n",
      "\n",
      "\tBest validation accuracy! iteration:66 accuracy: 43.75%\n",
      "\n",
      "training epoch 67 \n",
      "32/32 loss: 2.157784938812256 | training accuracy: 43.750% | validation accuracy : 43.750%\n",
      "training epoch 68 \n",
      "32/32 loss: 2.1517796516418457 | training accuracy: 43.750% | validation accuracy : 43.750%\n",
      "training epoch 69 \n",
      "32/32 loss: 2.1459522247314453 | training accuracy: 43.750% | validation accuracy : 43.750%\n",
      "training epoch 70 \n",
      "32/32 loss: 2.1403133869171143 | training accuracy: 43.750% | validation accuracy : 43.750%\n",
      "training epoch 71 \n",
      "32/32 loss: 2.134875774383545 | training accuracy: 43.750% | validation accuracy : 43.750%\n",
      "training epoch 72 \n",
      "32/32 loss: 2.1296963691711426 | training accuracy: 43.750% | validation accuracy : 43.750%\n",
      "training epoch 73 \n",
      "32/32 loss: 2.1250038146972656 | training accuracy: 43.750% | validation accuracy : 46.875%\n",
      "\n",
      "\tBest validation accuracy! iteration:73 accuracy: 46.875%\n",
      "\n",
      "training epoch 74 \n",
      "32/32 loss: 2.121344804763794 | training accuracy: 46.875% | validation accuracy : 43.750%\n",
      "training epoch 75 \n",
      "32/32 loss: 2.118736505508423 | training accuracy: 43.750% | validation accuracy : 46.875%\n",
      "training epoch 76 \n",
      "32/32 loss: 2.1131796836853027 | training accuracy: 46.875% | validation accuracy : 43.750%\n",
      "training epoch 77 \n",
      "32/32 loss: 2.1062417030334473 | training accuracy: 43.750% | validation accuracy : 43.750%\n",
      "training epoch 78 \n",
      "32/32 loss: 2.1033480167388916 | training accuracy: 43.750% | validation accuracy : 46.875%\n",
      "training epoch 79 \n",
      "32/32 loss: 2.1005382537841797 | training accuracy: 46.875% | validation accuracy : 43.750%\n",
      "training epoch 80 \n",
      "32/32 loss: 2.0947160720825195 | training accuracy: 43.750% | validation accuracy : 50.000%\n",
      "\n",
      "\tBest validation accuracy! iteration:80 accuracy: 50.0%\n",
      "\n",
      "training epoch 81 \n",
      "32/32 loss: 2.090369462966919 | training accuracy: 46.875% | validation accuracy : 50.000%\n",
      "training epoch 82 \n",
      "32/32 loss: 2.0878593921661377 | training accuracy: 46.875% | validation accuracy : 43.750%\n",
      "training epoch 83 \n",
      "32/32 loss: 2.0838608741760254 | training accuracy: 43.750% | validation accuracy : 53.125%\n",
      "\n",
      "\tBest validation accuracy! iteration:83 accuracy: 53.125%\n",
      "\n",
      "training epoch 84 \n",
      "32/32 loss: 2.078887939453125 | training accuracy: 53.125% | validation accuracy : 50.000%\n",
      "training epoch 85 \n",
      "32/32 loss: 2.075284719467163 | training accuracy: 50.000% | validation accuracy : 43.750%\n",
      "training epoch 86 \n",
      "32/32 loss: 2.0727667808532715 | training accuracy: 43.750% | validation accuracy : 50.000%\n",
      "training epoch 87 \n",
      "32/32 loss: 2.068626880645752 | training accuracy: 50.000% | validation accuracy : 53.125%\n",
      "training epoch 88 \n",
      "32/32 loss: 2.063683032989502 | training accuracy: 53.125% | validation accuracy : 53.125%\n",
      "training epoch 89 \n",
      "32/32 loss: 2.060671806335449 | training accuracy: 50.000% | validation accuracy : 50.000%\n",
      "training epoch 90 \n",
      "32/32 loss: 2.0578527450561523 | training accuracy: 50.000% | validation accuracy : 53.125%\n",
      "training epoch 91 \n",
      "32/32 loss: 2.0540995597839355 | training accuracy: 50.000% | validation accuracy : 46.875%\n",
      "training epoch 92 \n",
      "32/32 loss: 2.0500807762145996 | training accuracy: 46.875% | validation accuracy : 53.125%\n",
      "training epoch 93 \n",
      "32/32 loss: 2.0458152294158936 | training accuracy: 53.125% | validation accuracy : 53.125%\n",
      "training epoch 94 \n",
      "32/32 loss: 2.042433261871338 | training accuracy: 53.125% | validation accuracy : 46.875%\n",
      "training epoch 95 \n",
      "32/32 loss: 2.0396862030029297 | training accuracy: 46.875% | validation accuracy : 53.125%\n",
      "training epoch 96 \n",
      "32/32 loss: 2.0367164611816406 | training accuracy: 53.125% | validation accuracy : 53.125%\n",
      "training epoch 97 \n",
      "32/32 loss: 2.034043312072754 | training accuracy: 53.125% | validation accuracy : 56.250%\n",
      "\n",
      "\tBest validation accuracy! iteration:97 accuracy: 56.25%\n",
      "\n",
      "training epoch 98 \n",
      "32/32 loss: 2.0308499336242676 | training accuracy: 56.250% | validation accuracy : 53.125%\n",
      "training epoch 99 \n",
      "32/32 loss: 2.026906967163086 | training accuracy: 53.125% | validation accuracy : 53.125%\n",
      "training epoch 100 \n",
      "\tLearning rate reduced to 1.0000e-05 at epoch 100\n",
      "32/32 loss: 2.0227773189544678 | training accuracy: 53.125% | validation accuracy : 53.125%\n",
      "training epoch 101 \n",
      "32/32 loss: 2.0183615684509277 | training accuracy: 53.125% | validation accuracy : 50.000%\n",
      "training epoch 102 \n",
      "32/32 loss: 2.014690637588501 | training accuracy: 46.875% | validation accuracy : 50.000%\n",
      "training epoch 103 \n",
      "32/32 loss: 2.011470317840576 | training accuracy: 50.000% | validation accuracy : 53.125%\n",
      "training epoch 104 \n",
      "32/32 loss: 2.008584499359131 | training accuracy: 53.125% | validation accuracy : 53.125%\n",
      "training epoch 105 \n",
      "32/32 loss: 2.006664991378784 | training accuracy: 53.125% | validation accuracy : 56.250%\n",
      "training epoch 106 \n",
      "32/32 loss: 2.0060901641845703 | training accuracy: 56.250% | validation accuracy : 50.000%\n",
      "training epoch 107 \n",
      "32/32 loss: 2.0072901248931885 | training accuracy: 50.000% | validation accuracy : 50.000%\n",
      "training epoch 108 \n",
      "32/32 loss: 2.005643367767334 | training accuracy: 50.000% | validation accuracy : 53.125%\n",
      "training epoch 109 \n",
      "32/32 loss: 1.9958652257919312 | training accuracy: 56.250% | validation accuracy : 53.125%\n",
      "training epoch 110 \n",
      "32/32 loss: 1.9885188341140747 | training accuracy: 53.125% | validation accuracy : 56.250%\n",
      "training epoch 111 \n",
      "32/32 loss: 1.9898107051849365 | training accuracy: 56.250% | validation accuracy : 53.125%\n",
      "training epoch 112 \n",
      "32/32 loss: 1.989848017692566 | training accuracy: 53.125% | validation accuracy : 53.125%\n",
      "training epoch 113 \n",
      "32/32 loss: 1.9822449684143066 | training accuracy: 53.125% | validation accuracy : 53.125%\n",
      "training epoch 114 \n",
      "32/32 loss: 1.9764206409454346 | training accuracy: 53.125% | validation accuracy : 53.125%\n",
      "training epoch 115 \n",
      "32/32 loss: 1.9771367311477661 | training accuracy: 53.125% | validation accuracy : 53.125%\n",
      "training epoch 116 \n",
      "32/32 loss: 1.9760808944702148 | training accuracy: 53.125% | validation accuracy : 53.125%\n",
      "training epoch 117 \n",
      "32/32 loss: 1.9691351652145386 | training accuracy: 53.125% | validation accuracy : 53.125%\n",
      "training epoch 118 \n",
      "32/32 loss: 1.964493751525879 | training accuracy: 53.125% | validation accuracy : 53.125%\n",
      "training epoch 119 \n",
      "32/32 loss: 1.9645088911056519 | training accuracy: 53.125% | validation accuracy : 56.250%\n",
      "training epoch 120 \n",
      "32/32 loss: 1.9629650115966797 | training accuracy: 56.250% | validation accuracy : 53.125%\n",
      "training epoch 121 \n",
      "32/32 loss: 1.9574315547943115 | training accuracy: 53.125% | validation accuracy : 53.125%\n",
      "training epoch 122 \n",
      "32/32 loss: 1.952502965927124 | training accuracy: 53.125% | validation accuracy : 59.375%\n",
      "\n",
      "\tBest validation accuracy! iteration:122 accuracy: 59.375%\n",
      "\n",
      "training epoch 123 \n",
      "32/32 loss: 1.95114004611969 | training accuracy: 62.500% | validation accuracy : 56.250%\n",
      "training epoch 124 \n",
      "32/32 loss: 1.950376272201538 | training accuracy: 53.125% | validation accuracy : 56.250%\n",
      "training epoch 125 \n",
      "32/32 loss: 1.947048544883728 | training accuracy: 56.250% | validation accuracy : 53.125%\n",
      "training epoch 126 \n",
      "32/32 loss: 1.9418818950653076 | training accuracy: 53.125% | validation accuracy : 56.250%\n",
      "training epoch 127 \n",
      "32/32 loss: 1.93793523311615 | training accuracy: 53.125% | validation accuracy : 56.250%\n",
      "training epoch 128 \n",
      "32/32 loss: 1.9360554218292236 | training accuracy: 56.250% | validation accuracy : 56.250%\n",
      "training epoch 129 \n",
      "32/32 loss: 1.9350372552871704 | training accuracy: 56.250% | validation accuracy : 56.250%\n",
      "training epoch 130 \n",
      "32/32 loss: 1.9331822395324707 | training accuracy: 56.250% | validation accuracy : 56.250%\n",
      "training epoch 131 \n",
      "32/32 loss: 1.9299359321594238 | training accuracy: 53.125% | validation accuracy : 59.375%\n",
      "training epoch 132 \n",
      "32/32 loss: 1.9256118535995483 | training accuracy: 59.375% | validation accuracy : 59.375%\n",
      "training epoch 133 \n",
      "32/32 loss: 1.92140531539917 | training accuracy: 56.250% | validation accuracy : 59.375%\n",
      "training epoch 134 \n",
      "32/32 loss: 1.9179913997650146 | training accuracy: 56.250% | validation accuracy : 59.375%\n",
      "training epoch 135 \n"
     ]
    },
    {
     "name": "stdout",
     "output_type": "stream",
     "text": [
      "32/32 loss: 1.9155194759368896 | training accuracy: 56.250% | validation accuracy : 62.500%\n",
      "\n",
      "\tBest validation accuracy! iteration:135 accuracy: 62.5%\n",
      "\n",
      "training epoch 136 \n",
      "32/32 loss: 1.9137327671051025 | training accuracy: 59.375% | validation accuracy : 62.500%\n",
      "training epoch 137 \n",
      "32/32 loss: 1.9127788543701172 | training accuracy: 62.500% | validation accuracy : 62.500%\n",
      "training epoch 138 \n",
      "32/32 loss: 1.9129631519317627 | training accuracy: 62.500% | validation accuracy : 62.500%\n",
      "training epoch 139 \n",
      "32/32 loss: 1.9144874811172485 | training accuracy: 62.500% | validation accuracy : 59.375%\n",
      "training epoch 140 \n",
      "\tLearning rate reduced to 1.0000e-06 at epoch 140\n",
      "32/32 loss: 1.9150521755218506 | training accuracy: 62.500% | validation accuracy : 62.500%\n",
      "training epoch 141 \n",
      "32/32 loss: 1.9101402759552002 | training accuracy: 62.500% | validation accuracy : 62.500%\n",
      "training epoch 142 \n",
      "32/32 loss: 1.9000859260559082 | training accuracy: 62.500% | validation accuracy : 59.375%\n",
      "training epoch 143 \n",
      "32/32 loss: 1.893972635269165 | training accuracy: 59.375% | validation accuracy : 62.500%\n",
      "training epoch 144 \n",
      "32/32 loss: 1.8950297832489014 | training accuracy: 65.625% | validation accuracy : 65.625%\n",
      "\n",
      "\tBest validation accuracy! iteration:144 accuracy: 65.625%\n",
      "\n",
      "training epoch 145 \n",
      "32/32 loss: 1.8974577188491821 | training accuracy: 62.500% | validation accuracy : 65.625%\n",
      "training epoch 146 \n",
      "32/32 loss: 1.8945956230163574 | training accuracy: 65.625% | validation accuracy : 62.500%\n",
      "training epoch 147 \n",
      "32/32 loss: 1.8867117166519165 | training accuracy: 62.500% | validation accuracy : 59.375%\n",
      "training epoch 148 \n",
      "32/32 loss: 1.8817068338394165 | training accuracy: 59.375% | validation accuracy : 62.500%\n",
      "training epoch 149 \n",
      "32/32 loss: 1.8821265697479248 | training accuracy: 62.500% | validation accuracy : 65.625%\n",
      "training epoch 150 \n",
      "32/32 loss: 1.883249282836914 | training accuracy: 65.625% | validation accuracy : 65.625%\n",
      "training epoch 151 \n",
      "32/32 loss: 1.8805787563323975 | training accuracy: 65.625% | validation accuracy : 65.625%\n",
      "training epoch 152 \n",
      "32/32 loss: 1.8743469715118408 | training accuracy: 65.625% | validation accuracy : 59.375%\n",
      "training epoch 153 \n",
      "32/32 loss: 1.8698780536651611 | training accuracy: 56.250% | validation accuracy : 62.500%\n",
      "training epoch 154 \n",
      "32/32 loss: 1.869032621383667 | training accuracy: 59.375% | validation accuracy : 65.625%\n",
      "training epoch 155 \n",
      "32/32 loss: 1.869462490081787 | training accuracy: 65.625% | validation accuracy : 65.625%\n",
      "training epoch 156 \n",
      "32/32 loss: 1.8681889772415161 | training accuracy: 65.625% | validation accuracy : 65.625%\n",
      "training epoch 157 \n",
      "32/32 loss: 1.864032506942749 | training accuracy: 65.625% | validation accuracy : 59.375%\n",
      "training epoch 158 \n",
      "32/32 loss: 1.8593229055404663 | training accuracy: 59.375% | validation accuracy : 62.500%\n",
      "training epoch 159 \n",
      "32/32 loss: 1.856123924255371 | training accuracy: 56.250% | validation accuracy : 65.625%\n",
      "training epoch 160 \n",
      "32/32 loss: 1.8548426628112793 | training accuracy: 65.625% | validation accuracy : 62.500%\n",
      "training epoch 161 \n",
      "32/32 loss: 1.8544782400131226 | training accuracy: 59.375% | validation accuracy : 65.625%\n",
      "training epoch 162 \n",
      "32/32 loss: 1.8537333011627197 | training accuracy: 62.500% | validation accuracy : 65.625%\n",
      "training epoch 163 \n",
      "32/32 loss: 1.8522366285324097 | training accuracy: 62.500% | validation accuracy : 65.625%\n",
      "training epoch 164 \n",
      "32/32 loss: 1.8492084741592407 | training accuracy: 68.750% | validation accuracy : 62.500%\n",
      "training epoch 165 \n",
      "32/32 loss: 1.8455630540847778 | training accuracy: 59.375% | validation accuracy : 65.625%\n",
      "training epoch 166 \n",
      "32/32 loss: 1.8417844772338867 | training accuracy: 62.500% | validation accuracy : 62.500%\n",
      "training epoch 167 \n",
      "32/32 loss: 1.8386874198913574 | training accuracy: 62.500% | validation accuracy : 62.500%\n",
      "training epoch 168 \n",
      "32/32 loss: 1.836355447769165 | training accuracy: 59.375% | validation accuracy : 62.500%\n",
      "training epoch 169 \n",
      "32/32 loss: 1.8346405029296875 | training accuracy: 59.375% | validation accuracy : 65.625%\n",
      "training epoch 170 \n",
      "32/32 loss: 1.8334887027740479 | training accuracy: 62.500% | validation accuracy : 65.625%\n",
      "training epoch 171 \n",
      "32/32 loss: 1.8330308198928833 | training accuracy: 65.625% | validation accuracy : 65.625%\n",
      "training epoch 172 \n",
      "32/32 loss: 1.8341283798217773 | training accuracy: 59.375% | validation accuracy : 65.625%\n",
      "training epoch 173 \n",
      "32/32 loss: 1.8367562294006348 | training accuracy: 65.625% | validation accuracy : 59.375%\n",
      "training epoch 174 \n",
      "32/32 loss: 1.8423256874084473 | training accuracy: 59.375% | validation accuracy : 65.625%\n",
      "training epoch 175 \n",
      "32/32 loss: 1.8421496152877808 | training accuracy: 65.625% | validation accuracy : 62.500%\n",
      "training epoch 176 \n",
      "32/32 loss: 1.835479736328125 | training accuracy: 59.375% | validation accuracy : 68.750%\n",
      "\n",
      "\tBest validation accuracy! iteration:176 accuracy: 68.75%\n",
      "\n",
      "training epoch 177 \n",
      "32/32 loss: 1.8211681842803955 | training accuracy: 65.625% | validation accuracy : 59.375%\n",
      "training epoch 178 \n",
      "32/32 loss: 1.8164937496185303 | training accuracy: 62.500% | validation accuracy : 62.500%\n",
      "training epoch 179 \n",
      "32/32 loss: 1.8220957517623901 | training accuracy: 59.375% | validation accuracy : 65.625%\n",
      "training epoch 180 \n",
      "32/32 loss: 1.8250231742858887 | training accuracy: 65.625% | validation accuracy : 62.500%\n",
      "training epoch 181 \n",
      "32/32 loss: 1.8196853399276733 | training accuracy: 59.375% | validation accuracy : 65.625%\n",
      "training epoch 182 \n",
      "32/32 loss: 1.8095183372497559 | training accuracy: 68.750% | validation accuracy : 65.625%\n",
      "training epoch 183 \n",
      "32/32 loss: 1.807966709136963 | training accuracy: 68.750% | validation accuracy : 59.375%\n",
      "training epoch 184 \n",
      "32/32 loss: 1.8124589920043945 | training accuracy: 59.375% | validation accuracy : 65.625%\n",
      "training epoch 185 \n",
      "32/32 loss: 1.8119442462921143 | training accuracy: 65.625% | validation accuracy : 65.625%\n",
      "training epoch 186 \n",
      "32/32 loss: 1.8054639101028442 | training accuracy: 59.375% | validation accuracy : 62.500%\n",
      "training epoch 187 \n",
      "32/32 loss: 1.7993073463439941 | training accuracy: 62.500% | validation accuracy : 65.625%\n",
      "training epoch 188 \n",
      "32/32 loss: 1.7995165586471558 | training accuracy: 65.625% | validation accuracy : 62.500%\n",
      "training epoch 189 \n",
      "32/32 loss: 1.8021265268325806 | training accuracy: 62.500% | validation accuracy : 68.750%\n",
      "training epoch 190 \n",
      "32/32 loss: 1.7999608516693115 | training accuracy: 68.750% | validation accuracy : 62.500%\n",
      "training epoch 191 \n",
      "32/32 loss: 1.7944912910461426 | training accuracy: 62.500% | validation accuracy : 62.500%\n",
      "training epoch 192 \n",
      "32/32 loss: 1.7902817726135254 | training accuracy: 65.625% | validation accuracy : 65.625%\n",
      "training epoch 193 \n",
      "32/32 loss: 1.789807915687561 | training accuracy: 65.625% | validation accuracy : 65.625%\n",
      "training epoch 194 \n",
      "32/32 loss: 1.7910246849060059 | training accuracy: 59.375% | validation accuracy : 68.750%\n",
      "training epoch 195 \n",
      "32/32 loss: 1.7896873950958252 | training accuracy: 65.625% | validation accuracy : 62.500%\n",
      "training epoch 196 \n",
      "32/32 loss: 1.7863699197769165 | training accuracy: 59.375% | validation accuracy : 65.625%\n",
      "training epoch 197 \n",
      "32/32 loss: 1.7821784019470215 | training accuracy: 65.625% | validation accuracy : 68.750%\n",
      "training epoch 198 \n",
      "32/32 loss: 1.7796194553375244 | training accuracy: 65.625% | validation accuracy : 62.500%\n",
      "training epoch 199 \n",
      "32/32 loss: 1.7787965536117554 | training accuracy: 62.500% | validation accuracy : 65.625%\n",
      "training epoch 200 \n",
      "32/32 loss: 1.7786825895309448 | training accuracy: 65.625% | validation accuracy : 62.500%\n",
      "Traning ends. The best valid accuracy is 68.750%. Model named: 'test'.\n"
     ]
    }
   ],
   "source": [
    "cnn = CNN_Spectral_Pool(M=3,verbose=True,learning_rate=1e-4)\n",
    "tf.reset_default_graph()\n",
    "cnn.train(xtrain_sample, ytrain_sample, xtrain_sample, ytrain_sample,\n",
    "          batch_size=32, epochs=200)"
   ]
  },
  {
   "cell_type": "markdown",
   "metadata": {},
   "source": [
    "__Note:__ in the above output, train acc is not same as validation acc even though they are the same because of dropout applied in train and not in validation"
   ]
  },
  {
   "cell_type": "code",
   "execution_count": 22,
   "metadata": {},
   "outputs": [
    {
     "name": "stdout",
     "output_type": "stream",
     "text": [
      "Building tf graph...\n",
      "Adding conv layer 1 | Input size: 32 | Input channels: 3 | #filters: 128 | filter size: 3\n",
      "Adding spectral pool layer 1 | Input size: 32 | filter size: (27,27) | Freq Dropout: 14\n",
      "Adding conv layer 2 | Input size: 27 | Input channels: 128 | #filters: 160 | filter size: 3\n",
      "Adding spectral pool layer 2 | Input size: 27 | filter size: (21,21) | Freq Dropout: 12\n",
      "Adding conv layer 3 | Input size: 21 | Input channels: 160 | #filters: 192 | filter size: 3\n",
      "Adding spectral pool layer 3 | Input size: 21 | filter size: (17,17) | Freq Dropout: 10\n",
      "Adding conv layer 4 | Input size: 17 | Input channels: 192 | #filters: 192 | filter size: 1\n",
      "Adding conv layer 5 | Input size: 17 | Input channels: 192 | #filters: 10 | filter size: 1\n",
      "Adding final softmax layer using global averaging\n",
      "Loading pre-trained model\n",
      "INFO:tensorflow:Restoring parameters from model/test\n",
      "Test accuracy: 43.750\n"
     ]
    }
   ],
   "source": [
    "cnn.calc_test_accuracy(xtrain_sample, ytrain_sample)"
   ]
  },
  {
   "cell_type": "code",
   "execution_count": 39,
   "metadata": {},
   "outputs": [
    {
     "data": {
      "text/plain": [
       "[<matplotlib.lines.Line2D at 0x7f99e6e81978>]"
      ]
     },
     "execution_count": 39,
     "metadata": {},
     "output_type": "execute_result"
    },
    {
     "data": {
      "image/png": "[encoded data removed]",
      "text/plain": [
       "<matplotlib.figure.Figure at 0x7f99e7305cc0>"
      ]
     },
     "metadata": {},
     "output_type": "display_data"
    }
   ],
   "source": [
    "plt.plot(cnn.loss_vals)"
   ]
  },
  {
   "cell_type": "code",
   "execution_count": 40,
   "metadata": {},
   "outputs": [
    {
     "data": {
      "text/plain": [
       "[<matplotlib.lines.Line2D at 0x7f9abdb03358>]"
      ]
     },
     "execution_count": 40,
     "metadata": {},
     "output_type": "execute_result"
    },
    {
     "data": {
      "image/png": "[encoded data removed]",
      "text/plain": [
       "<matplotlib.figure.Figure at 0x7f99e7ddbb38>"
      ]
     },
     "metadata": {},
     "output_type": "display_data"
    }
   ],
   "source": [
    "plt.plot(cnn.train_accuracy)"
   ]
  },
  {
   "cell_type": "code",
   "execution_count": 27,
   "metadata": {
    "scrolled": false
   },
   "outputs": [
    {
     "name": "stderr",
     "output_type": "stream",
     "text": [
      "IOPub data rate exceeded.\n",
      "The notebook server will temporarily stop sending output\n",
      "to the client in order to avoid crashing it.\n",
      "To change this limit, set the config variable\n",
      "`--NotebookApp.iopub_data_rate_limit`.\n"
     ]
    }
   ],
   "source": [
    "# show the graph\n",
    "from modules.utils import show_graph \n",
    "tf.reset_default_graph()\n",
    "with tf.Session() as sess:\n",
    "    saver = tf.train.import_meta_graph('model/test.meta')\n",
    "    graph = tf.get_default_graph()\n",
    "    show_graph(graph)"
   ]
  },
  {
   "cell_type": "code",
   "execution_count": 18,
   "metadata": {},
   "outputs": [
    {
     "data": {
      "text/plain": [
       "2"
      ]
     },
     "execution_count": 18,
     "metadata": {},
     "output_type": "execute_result"
    }
   ],
   "source": [
    "c"
   ]
  },
  {
   "cell_type": "code",
   "execution_count": null,
   "metadata": {
    "collapsed": true
   },
   "outputs": [],
   "source": []
  }
 ],
 "metadata": {
  "kernelspec": {
   "display_name": "Python 3",
   "language": "python",
   "name": "python3"
  },
  "language_info": {
   "codemirror_mode": {
    "name": "ipython",
    "version": 3
   },
   "file_extension": ".py",
   "mimetype": "text/x-python",
   "name": "python",
   "nbconvert_exporter": "python",
   "pygments_lexer": "ipython3",
   "version": "3.5.4"
  }
 },
 "nbformat": 4,
 "nbformat_minor": 2
}
